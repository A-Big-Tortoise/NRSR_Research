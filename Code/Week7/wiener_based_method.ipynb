{
 "cells": [
  {
   "cell_type": "code",
   "execution_count": 2,
   "outputs": [],
   "source": [
    "# load data\n",
    "# clean data\n",
    "# features extraction\n",
    "# model\n",
    "# predict"
   ],
   "metadata": {
    "collapsed": false,
    "pycharm": {
     "name": "#%%\n"
    }
   }
  },
  {
   "cell_type": "code",
   "execution_count": 102,
   "outputs": [],
   "source": [
    "import numpy as np\n",
    "import matplotlib.pyplot as plt\n",
    "from Code.toolbox import compare_freq\n",
    "# from Code.Tutorial.denoise_fft import fft_denoise\n"
   ],
   "metadata": {
    "collapsed": false,
    "pycharm": {
     "name": "#%%\n"
    }
   }
  },
  {
   "cell_type": "code",
   "execution_count": 103,
   "outputs": [],
   "source": [
    "def get_noise(signal, peaks, distance=8):\n",
    "    margin = peaks[0]\n",
    "    mask = np.ones(signal.shape)\n",
    "    mask_added = np.zeros(signal.shape)\n",
    "    for i in range(len(peaks)):\n",
    "        peak = peaks[i]\n",
    "        if i == len(peaks) - 1:\n",
    "            peak_next = 1000\n",
    "        else:\n",
    "            peak_next = peaks[i + 1] - margin\n",
    "        if i % 2 == 1:\n",
    "            dis = distance * 2\n",
    "        else:\n",
    "            dis = distance\n",
    "        mask[peak - margin: peak + dis] = 0\n",
    "        mask_added[peak - margin: peak + dis] = np.mean(signal[peak + dis: peak_next])\n",
    "    return signal * mask + mask_added\n",
    "\n",
    "\n",
    "from scipy.signal import find_peaks\n",
    "from scipy.interpolate import interp1d\n",
    "\n",
    "\n",
    "def update_array(a, data_tmp):\n",
    "    i = 0\n",
    "    while i < len(a) - 2:\n",
    "        if data_tmp[a[i]] < data_tmp[a[i + 1]] < data_tmp[a[i + 2]]:\n",
    "            a = np.delete(a, i)\n",
    "        elif data_tmp[a[i]] > data_tmp[a[i + 1]] > data_tmp[a[i + 2]]:\n",
    "            a = np.delete(a, i + 2)\n",
    "        else:\n",
    "            i += 1\n",
    "    return a\n",
    "\n",
    "\n",
    "def get_peaks(data_tmp, distance, duration, sampling_rate):\n",
    "    data_tmp = data_tmp / np.max(data_tmp)\n",
    "\n",
    "    t = np.linspace(0, duration, duration * sampling_rate)\n",
    "    signal = data_tmp\n",
    "\n",
    "    peak_indices, _ = find_peaks(signal)\n",
    "\n",
    "    t_peaks = t[peak_indices]\n",
    "    peak_values = signal[peak_indices]\n",
    "    interpolation_func = interp1d(t_peaks, peak_values, kind='linear', bounds_error=False, fill_value=0)\n",
    "    envelope = interpolation_func(t)\n",
    "\n",
    "    peaks2, _ = find_peaks(envelope, distance=distance)\n",
    "\n",
    "    peaks2 = update_array(peaks2, data_tmp)\n",
    "    if len(peaks2) % 2 != 0:\n",
    "        peaks2 = np.delete(peaks2, len(peaks2) - 1)\n",
    "\n",
    "    return peaks2"
   ],
   "metadata": {
    "collapsed": false,
    "pycharm": {
     "name": "#%%\n"
    }
   }
  },
  {
   "cell_type": "code",
   "execution_count": 104,
   "outputs": [],
   "source": [
    "def standize_1d(signal):\n",
    "    return (signal - signal.mean()) / signal.std()\n",
    "def standize_2d(signal):\n",
    "    return (signal - signal.mean(1, keepdims=True)) / signal.std(1, keepdims=True)"
   ],
   "metadata": {
    "collapsed": false,
    "pycharm": {
     "name": "#%%\n"
    }
   }
  },
  {
   "cell_type": "code",
   "execution_count": 105,
   "outputs": [],
   "source": [
    "from Code.Tutorial.Dataset import load_scg\n",
    "\n",
    "def load_(path):\n",
    "    data = np.load(path)\n",
    "    signals, labels = data[:, :1000], data[:, 1000:]\n",
    "    return signals, labels\n"
   ],
   "metadata": {
    "collapsed": false,
    "pycharm": {
     "name": "#%%\n"
    }
   }
  },
  {
   "cell_type": "code",
   "execution_count": 148,
   "outputs": [],
   "source": [
    "def delete_unique(a):\n",
    "    mean = np.mean(a)\n",
    "    std = np.std(a)\n",
    "    threshold = 1\n",
    "    filtered_a = a[np.abs(a - mean) <= threshold * std]\n",
    "\n",
    "    return filtered_a\n",
    "\n",
    "def get_mag_0(peaks2, data_tmp):\n",
    "    mag = data_tmp[peaks2[::2]]\n",
    "    mean_mag = np.mean(mag)\n",
    "    std_mag = np.std(mag)\n",
    "    filtered_mag = mag[np.abs(mag-mean_mag) <= std_mag]\n",
    "    return np.mean(filtered_mag)\n",
    "\n",
    "def get_mag_1(peaks2, data_tmp):\n",
    "    mag = data_tmp[peaks2[1::2]]\n",
    "    mean_mag = np.mean(mag)\n",
    "    std_mag = np.std(mag)\n",
    "    filtered_mag = mag[np.abs(mag-mean_mag) <= std_mag]\n",
    "    return np.mean(filtered_mag)\n",
    "\n",
    "def get_features(data_tmp, peaks2):\n",
    "    maxm = np.max(data_tmp)\n",
    "    data_tmp_raw = data_tmp\n",
    "    data_tmp = data_tmp / maxm\n",
    "\n",
    "    data_tmp = data_tmp_raw / maxm\n",
    "\n",
    "    diff_12 = peaks2[1::2] - peaks2[0::2]\n",
    "    diff_21 = peaks2[2::2] - peaks2[1:-1:2]\n",
    "    diff_22 = peaks2[2::2] - peaks2[:-2:2]\n",
    "\n",
    "    diff_12 = delete_unique(diff_12)\n",
    "    diff_21 = delete_unique(diff_21)\n",
    "    diff_22 = delete_unique(diff_22)\n",
    "\n",
    "    m_12 = np.mean(diff_12)\n",
    "    m_21 = np.mean(diff_21)\n",
    "\n",
    "    mag_1 = get_mag_1(peaks2, data_tmp)\n",
    "    mag_0 = get_mag_0(peaks2, data_tmp)\n",
    "\n",
    "    features = np.array([ m_12/m_21, mag_0/mag_1])\n",
    "\n",
    "    return features"
   ],
   "metadata": {
    "collapsed": false,
    "pycharm": {
     "name": "#%%\n"
    }
   }
  },
  {
   "cell_type": "code",
   "execution_count": 149,
   "outputs": [],
   "source": [
    "def fft_denoise(signal, threshold):\n",
    "    \"\"\"\n",
    "    Applies FFT-based denoising to a signal.\n",
    "\n",
    "    Parameters:\n",
    "    signal (array-like): Input signal to be denoised.\n",
    "    threshold (float): Threshold for filtering out noise.\n",
    "\n",
    "    Returns:\n",
    "    array-like: Denoised signal after applying FFT-based denoising.\n",
    "    \"\"\"\n",
    "\n",
    "    num_samples = len(signal)  # Length of the input signal\n",
    "    fhat = np.fft.fft(signal)  # Compute the FFT of the signal\n",
    "    psd = fhat * np.conjugate(fhat) / num_samples  # Compute the power spectral density\n",
    "    threshold = np.max(psd) * 0.13\n",
    "    indices = psd > threshold  # Identify indices above the threshold for filtering\n",
    "    fhat = indices * fhat  # Apply filtering to the FFT coefficients\n",
    "    ffilt = np.fft.ifft(fhat)  # Compute the inverse FFT\n",
    "    ffilt = ffilt.real  # Take the real part of the inverse FFT\n",
    "\n",
    "    return ffilt"
   ],
   "metadata": {
    "collapsed": false,
    "pycharm": {
     "name": "#%%\n"
    }
   }
  },
  {
   "cell_type": "code",
   "execution_count": 150,
   "outputs": [],
   "source": [
    "def segmentation(signal, rpeak, h, d, S, D):\n",
    "    begin, end = 0, 0\n",
    "    margin = rpeak[0]\n",
    "    pieces = []\n",
    "\n",
    "    for num in range(1, len(rpeak)):\n",
    "        begin = end\n",
    "        end = rpeak[num] - margin\n",
    "        pieces.append(signal[begin: end])\n",
    "\n",
    "    Nmax = 0\n",
    "    for piece in pieces:\n",
    "        Nmax = max(Nmax, piece.shape[0])\n",
    "\n",
    "    pieces_padded = []\n",
    "    for piece in pieces:\n",
    "        N = Nmax - piece.shape[0]\n",
    "        pieces_padded.append(np.pad(piece, (0, N), 'constant'))\n",
    "    pieces_padded = np.array(pieces_padded)\n",
    "\n",
    "    template = np.median(pieces_padded, 0)\n",
    "\n",
    "    # template_peaks_ = get_peaks(template, distance, duration, fs)\n",
    "    template_peaks_, _ = find_peaks(template, height=np.max(template) * h, distance=len(template) * d)\n",
    "    template_peaks = []\n",
    "\n",
    "    if len(template_peaks_) == 2:\n",
    "        template_peaks = template_peaks_\n",
    "    elif len(template_peaks_) > 2:\n",
    "        mmax = np.argmax(template[template_peaks_])\n",
    "        template_peaks.append(template_peaks_[mmax])\n",
    "        template_peaks_ = np.delete(template_peaks_, mmax)\n",
    "        mmax2 = np.argmax(template[template_peaks_])\n",
    "        template_peaks.append(template_peaks_[mmax2])\n",
    "    elif len(template_peaks_) < 2:\n",
    "        plt.figure()\n",
    "        plt.plot(template)\n",
    "        plt.scatter(template_peaks_, template[template_peaks_])\n",
    "        plt.show()\n",
    "        return None\n",
    "\n",
    "\n",
    "\n",
    "    dis12 = template_peaks[1] - template_peaks[0]\n",
    "    dis21 = Nmax - dis12\n",
    "    A0 = template[template_peaks[0]]\n",
    "    A1 = template[template_peaks[1]]\n",
    "    plt.figure()\n",
    "    plt.plot(template)\n",
    "    plt.scatter(template_peaks_, template[template_peaks_])\n",
    "    plt.title(f'dis12/dis21:{dis12/dis21}, A0/A1:{A0/A1}, S:{S}, D:{D}')\n",
    "    plt.show()\n",
    "\n",
    "    return [dis12/dis21, A0/A1]"
   ],
   "metadata": {
    "collapsed": false,
    "pycharm": {
     "name": "#%%\n"
    }
   }
  },
  {
   "cell_type": "code",
   "execution_count": 151,
   "outputs": [],
   "source": [
    "def wiener(noisy_signal, hr, show=False):\n",
    "    peaks = get_peaks(noisy_signal, 2000 // (hr+2), 10, 100)\n",
    "\n",
    "    sep_noise = get_noise(noisy_signal, peaks)\n",
    "    signal = noisy_signal - sep_noise\n",
    "\n",
    "    signal = np.nan_to_num(signal)\n",
    "    sep_noise = np.nan_to_num(sep_noise)\n",
    "\n",
    "    signal_power = np.abs(np.fft.fft(signal))**2\n",
    "    noise_power = np.abs(np.fft.fft(sep_noise))**2\n",
    "    noise_power = np.mean(noise_power)\n",
    "    snr = signal_power / noise_power\n",
    "\n",
    "    wiener_filter = 1 / (1 + 1 / snr)\n",
    "    filtered_signal = np.fft.fft(noisy_signal) * wiener_filter\n",
    "    filtered_signal = np.fft.ifft(filtered_signal)\n",
    "\n",
    "    if show:\n",
    "        compare_freq(noisy_signal, filtered_signal)\n",
    "        plt.figure()\n",
    "        plt.plot(noisy_signal)\n",
    "        plt.plot(filtered_signal)\n",
    "        filtered_peaks = get_peaks(noisy_signal, 2000 // (hr+2), 10, 100)\n",
    "        plt.scatter(filtered_peaks, filtered_signal[filtered_peaks], color='r')\n",
    "        plt.show()\n",
    "\n",
    "    return np.real(filtered_signal)\n",
    "\n",
    "# if __name__=='__main__':\n",
    "#\n",
    "#     signals_n_0_train, labels_n_0_train = load_('../../Data/Normal/sim_5000_0_90_140_train_normal.npy')\n",
    "#     signals_n_0_test, labels_n_0_test = load_('../../Data/Normal/sim_3000_0_141_178_test_normal.npy')\n",
    "#\n",
    "#\n",
    "#     signals_n_0_train = standize_2d(signals_n_0_train)\n",
    "#     signals_n_x_train = signals_n_0_train + np.random.normal(loc=0.0, scale=0.8, size=signals_n_0_train.shape)\n",
    "#\n",
    "#     signals_n_0_test = standize_2d(signals_n_0_test)\n",
    "#     signals_n_x_test = signals_n_0_test + np.random.normal(loc=0.0, scale=0.8, size=signals_n_0_test.shape)\n",
    "#\n",
    "#\n",
    "#     def extract(signals, labels, dis):\n",
    "#         features = []\n",
    "#         idxs = []\n",
    "#         for cnt, signal in enumerate(signals):\n",
    "#             hr = labels[cnt, 2]\n",
    "#             filtered_signal = wiener(signal, hr, False)\n",
    "#             try:\n",
    "#                 peaks = get_peaks(filtered_signal, 2000 // (hr+2), 10, 100)\n",
    "#                 if len(peaks) < 14:\n",
    "#                     continue\n",
    "#                 feature = get_features(filtered_signal, peaks)\n",
    "#                 features.append(feature)\n",
    "#                 idxs.append(cnt)\n",
    "#             except(Exception):\n",
    "#                 print(cnt)\n",
    "#         return np.array(features), np.array(idxs)\n",
    "#\n",
    "#     features_train, idxs_train = extract(signals_n_x_train, labels_n_0_train, 15)\n",
    "#     features_test, idxs_test = extract(signals_n_x_test, labels_n_0_test, 10)\n",
    "\n"
   ],
   "metadata": {
    "collapsed": false,
    "pycharm": {
     "name": "#%%\n"
    }
   }
  },
  {
   "cell_type": "code",
   "execution_count": 195,
   "outputs": [
    {
     "name": "stdout",
     "output_type": "stream",
     "text": [
      "(4687, 1000) (2853, 1000)\n"
     ]
    }
   ],
   "source": [
    "\n",
    "if __name__=='__main__':\n",
    "\n",
    "    signals_n_0_train, labels_n_0_train = load_('../../Data/Normal/sim_5000_0_90_140_train_normal.npy')\n",
    "    signals_n_0_test, labels_n_0_test = load_('../../Data/Normal/sim_3000_0_141_178_test_normal.npy')\n",
    "\n",
    "    signals_n_0_train_ls = []\n",
    "    labels_n_0_train_ls = []\n",
    "    for cnt, signal in enumerate(signals_n_0_train):\n",
    "        if max(signal) > 1:\n",
    "            continue\n",
    "        signals_n_0_train_ls.append(signal)\n",
    "        labels_n_0_train_ls.append(labels_n_0_train[cnt])\n",
    "\n",
    "\n",
    "    signals_n_0_test_ls = []\n",
    "    labels_n_0_test_ls = []\n",
    "    for cnt, signal in enumerate(signals_n_0_test):\n",
    "        if max(signal) > 1:\n",
    "            continue\n",
    "        signals_n_0_test_ls.append(signal)\n",
    "        labels_n_0_test_ls.append(labels_n_0_test[cnt])\n",
    "\n",
    "    signals_n_0_train = np.array(signals_n_0_train_ls)\n",
    "    signals_n_0_test = np.array(signals_n_0_test_ls)\n",
    "    labels_n_0_train = np.array(labels_n_0_train_ls)\n",
    "    labels_n_0_test = np.array(labels_n_0_test_ls)\n",
    "\n",
    "    print(signals_n_0_train.shape, signals_n_0_test.shape)\n",
    "\n",
    "    signals_n_x_train = signals_n_0_train + np.random.normal(loc=0.0, scale=0.7, size=signals_n_0_train.shape) * 1e-6\n",
    "    signals_n_x_test = signals_n_0_test + np.random.normal(loc=0.0, scale=0.7, size=signals_n_0_test.shape) * 1e-6\n",
    "\n",
    "\n",
    "    def extract(signals, labels, clean_signals, aplha):\n",
    "        features = []\n",
    "        idxs = []\n",
    "        for cnt, signal in enumerate(signals):\n",
    "            hr = labels[cnt, 2]\n",
    "            # wiener_signal = wiener(signal, hr, False)\n",
    "            wiener_signal = signal\n",
    "            fft_wiener_signal = fft_denoise(wiener_signal, 2)\n",
    "            # large_peaks, _ = find_peaks(fft_wiener_signal, height=np.max(fft_wiener_signal) * 0.5, distance=30)\n",
    "            #\n",
    "            # plt.figure()\n",
    "            # plt.plot(signal)\n",
    "            # plt.plot(fft_wiener_signal)\n",
    "            # plt.scatter(large_peaks, fft_wiener_signal[large_peaks])\n",
    "            # plt.show()\n",
    "            # peaks = get_peaks(fft_wiener_signal, 15, 10, 100)\n",
    "            peaks, _ = find_peaks(fft_wiener_signal, height=np.max(fft_wiener_signal) * 0.12, distance=2000 // (hr * aplha))\n",
    "            peaks = update_array(peaks, fft_wiener_signal / np.max(fft_wiener_signal))\n",
    "            if len(peaks) % 2 != 0:\n",
    "                peaks = np.delete(peaks, len(peaks) - 1)\n",
    "\n",
    "            # try:\n",
    "            feature = get_features(fft_wiener_signal, peaks)\n",
    "            features.append(feature)\n",
    "            # except(Exception):\n",
    "\n",
    "            # if cnt % 61 == 0:\n",
    "            #     plt.figure()\n",
    "            #     plt.plot(clean_signals[cnt])\n",
    "            #     plt.plot(fft_wiener_signal)\n",
    "            #     plt.scatter(peaks, fft_wiener_signal[peaks])\n",
    "            #     plt.title(f'S:{labels[cnt, 4]} f:{feature[0]}')\n",
    "            #     plt.show()\n",
    "\n",
    "            # template_feature = segmentation(fft_wiener_signal, large_peaks, h, d, labels[cnt, 4], labels[cnt, 5])\n",
    "            # if template_feature is not None:\n",
    "            #\n",
    "            #     template_features.append(template_feature)\n",
    "\n",
    "            # if cnt > 1000:\n",
    "            #     break\n",
    "        return np.array(features), np.array(idxs)\n",
    "\n",
    "    features_train, idxs_train = extract(signals_n_x_train, labels_n_0_train,signals_n_0_train, 1)\n",
    "    features_test, idxs_test = extract(signals_n_x_test, labels_n_0_test, signals_n_0_test, 1.2)\n"
   ],
   "metadata": {
    "collapsed": false,
    "pycharm": {
     "name": "#%%\n"
    }
   }
  },
  {
   "cell_type": "code",
   "execution_count": 196,
   "outputs": [
    {
     "data": {
      "text/plain": "array([], dtype=float64)"
     },
     "execution_count": 196,
     "metadata": {},
     "output_type": "execute_result"
    }
   ],
   "source": [
    "idxs_train"
   ],
   "metadata": {
    "collapsed": false,
    "pycharm": {
     "name": "#%%\n"
    }
   }
  },
  {
   "cell_type": "code",
   "execution_count": 197,
   "outputs": [
    {
     "data": {
      "text/plain": "<Figure size 432x288 with 1 Axes>",
      "image/png": "[encoded data removed]"
     },
     "metadata": {
      "needs_background": "light"
     },
     "output_type": "display_data"
    },
    {
     "name": "stdout",
     "output_type": "stream",
     "text": [
      "1.0537660749076005\n"
     ]
    },
    {
     "data": {
      "text/plain": "<Figure size 432x288 with 1 Axes>",
      "image/png": "[encoded data removed]"
     },
     "metadata": {
      "needs_background": "light"
     },
     "output_type": "display_data"
    }
   ],
   "source": [
    "    plt.figure()\n",
    "    plt.scatter(np.array(features_train)[:, 0], labels_n_0_train[:, 4])\n",
    "    plt.scatter(np.array(features_test)[:, 0], labels_n_0_test[:, 4])\n",
    "    plt.show()\n",
    "\n",
    "    from sklearn.linear_model import LinearRegression as LR\n",
    "\n",
    "    reg = LR().fit(np.array(features_train)[:, 0].reshape(-1, 1), labels_n_0_train[:, 4])\n",
    "    yhat = reg.predict(np.array(features_test)[:, 0].reshape(-1, 1))\n",
    "    print(np.mean(np.abs(yhat - labels_n_0_test[:, 4])))\n",
    "\n",
    "    from Code.Tutorial.utils import plot_2vectors\n",
    "\n",
    "    plot_2vectors( labels_n_0_test[:, 4], yhat, False, 'S_0.8')\n"
   ],
   "metadata": {
    "collapsed": false,
    "pycharm": {
     "name": "#%%\n"
    }
   }
  },
  {
   "cell_type": "code",
   "execution_count": 198,
   "outputs": [
    {
     "data": {
      "text/plain": "<Figure size 432x288 with 1 Axes>",
      "image/png": "[encoded data removed]"
     },
     "metadata": {
      "needs_background": "light"
     },
     "output_type": "display_data"
    },
    {
     "name": "stdout",
     "output_type": "stream",
     "text": [
      "5.482192985651845\n"
     ]
    },
    {
     "data": {
      "text/plain": "<Figure size 432x288 with 1 Axes>",
      "image/png": "[encoded data removed]"
     },
     "metadata": {
      "needs_background": "light"
     },
     "output_type": "display_data"
    }
   ],
   "source": [
    "    plt.figure()\n",
    "    plt.scatter(np.array(features_train)[:, 1], labels_n_0_train[:, 5])\n",
    "    plt.scatter(np.array(features_test)[:, 1], labels_n_0_test[:, 5])\n",
    "    plt.show()\n",
    "\n",
    "    # from sklearn.linear_model import LinearRegression as LR\n",
    "\n",
    "    reg = LR().fit(np.array(features_train)[:, 1].reshape(-1, 1), labels_n_0_train[:, 5])\n",
    "    yhat = reg.predict(np.array(features_test)[:, 1].reshape(-1, 1))\n",
    "    print(np.mean(np.abs(yhat - labels_n_0_test[:, 5])))\n",
    "\n",
    "    from Code.Tutorial.utils import plot_2vectors\n",
    "\n",
    "    plot_2vectors( labels_n_0_test[:, 5], yhat, False, 'D_0.8')\n"
   ],
   "metadata": {
    "collapsed": false,
    "pycharm": {
     "name": "#%%\n"
    }
   }
  },
  {
   "cell_type": "code",
   "execution_count": null,
   "outputs": [],
   "source": [],
   "metadata": {
    "collapsed": false,
    "pycharm": {
     "name": "#%%\n"
    }
   }
  }
 ],
 "metadata": {
  "kernelspec": {
   "display_name": "Python 3",
   "language": "python",
   "name": "python3"
  },
  "language_info": {
   "codemirror_mode": {
    "name": "ipython",
    "version": 2
   },
   "file_extension": ".py",
   "mimetype": "text/x-python",
   "name": "python",
   "nbconvert_exporter": "python",
   "pygments_lexer": "ipython2",
   "version": "2.7.6"
  }
 },
 "nbformat": 4,
 "nbformat_minor": 0
}