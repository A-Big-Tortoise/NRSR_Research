{
 "cells": [
  {
   "cell_type": "code",
   "execution_count": 1,
   "outputs": [],
   "source": [
    "# load data\n",
    "# clean data\n",
    "# features extraction\n",
    "# model\n",
    "# predict"
   ],
   "metadata": {
    "collapsed": false,
    "pycharm": {
     "name": "#%%\n"
    }
   }
  },
  {
   "cell_type": "code",
   "execution_count": 2,
   "outputs": [],
   "source": [
    "import numpy as np\n",
    "import matplotlib.pyplot as plt\n",
    "from Code.toolbox import compare_freq\n",
    "# from Code.Tutorial.denoise_fft import fft_denoise\n",
    "from Code.Tutorial.Dataset import load_scg\n",
    "from scipy.signal import find_peaks\n",
    "from Code.Tutorial.filter_savgol import savgol_filter\n"
   ],
   "metadata": {
    "collapsed": false,
    "pycharm": {
     "name": "#%%\n"
    }
   }
  },
  {
   "cell_type": "code",
   "execution_count": 3,
   "outputs": [],
   "source": [
    "\n",
    "def load_(path):\n",
    "    data = np.load(path)\n",
    "    signals, labels = data[:, :1000], data[:, 1000:]\n",
    "    return signals, labels\n"
   ],
   "metadata": {
    "collapsed": false,
    "pycharm": {
     "name": "#%%\n"
    }
   }
  },
  {
   "cell_type": "code",
   "execution_count": 4,
   "outputs": [],
   "source": [
    "def delete_unique(a):\n",
    "    mean = np.mean(a)\n",
    "    std = np.std(a)\n",
    "    threshold = 1\n",
    "    filtered_a = a[np.abs(a - mean) <= threshold * std]\n",
    "\n",
    "    return filtered_a\n",
    "\n",
    "def get_mag_0(peaks2, data_tmp):\n",
    "    mag = data_tmp[peaks2[::2]]\n",
    "    mean_mag = np.mean(mag)\n",
    "    std_mag = np.std(mag)\n",
    "    filtered_mag = mag[np.abs(mag-mean_mag) <= std_mag]\n",
    "    return np.mean(filtered_mag)\n",
    "\n",
    "def get_mag_1(peaks2, data_tmp):\n",
    "    mag = data_tmp[peaks2[1::2]]\n",
    "    mean_mag = np.mean(mag)\n",
    "    std_mag = np.std(mag)\n",
    "    filtered_mag = mag[np.abs(mag-mean_mag) <= std_mag]\n",
    "    return np.mean(filtered_mag)\n",
    "\n",
    "def get_features(data_tmp, peaks2):\n",
    "    maxm = np.max(data_tmp)\n",
    "    data_tmp_raw = data_tmp\n",
    "    data_tmp = data_tmp / maxm\n",
    "\n",
    "    data_tmp = data_tmp_raw / maxm\n",
    "\n",
    "    diff_12 = peaks2[1::2] - peaks2[0::2]\n",
    "    diff_21 = peaks2[2::2] - peaks2[1:-1:2]\n",
    "    diff_22 = peaks2[2::2] - peaks2[:-2:2]\n",
    "\n",
    "    diff_12 = delete_unique(diff_12)\n",
    "    diff_21 = delete_unique(diff_21)\n",
    "    diff_22 = delete_unique(diff_22)\n",
    "\n",
    "    m_12 = np.mean(diff_12)\n",
    "    m_21 = np.mean(diff_21)\n",
    "\n",
    "    mag_1 = get_mag_1(peaks2, data_tmp)\n",
    "    mag_0 = get_mag_0(peaks2, data_tmp)\n",
    "\n",
    "    features = np.array([ m_12/m_21, mag_0/mag_1])\n",
    "\n",
    "    return features"
   ],
   "metadata": {
    "collapsed": false,
    "pycharm": {
     "name": "#%%\n"
    }
   }
  },
  {
   "cell_type": "code",
   "execution_count": 5,
   "outputs": [],
   "source": [
    "def fft_denoise(signal, threshold):\n",
    "    \"\"\"\n",
    "    Applies FFT-based denoising to a signal.\n",
    "\n",
    "    Parameters:\n",
    "    signal (array-like): Input signal to be denoised.\n",
    "    threshold (float): Threshold for filtering out noise.\n",
    "\n",
    "    Returns:\n",
    "    array-like: Denoised signal after applying FFT-based denoising.\n",
    "    \"\"\"\n",
    "\n",
    "    num_samples = len(signal)  # Length of the input signal\n",
    "    fhat = np.fft.fft(signal)  # Compute the FFT of the signal\n",
    "    psd = fhat * np.conjugate(fhat) / num_samples  # Compute the power spectral density\n",
    "    threshold = np.max(psd) * 0.13\n",
    "    indices = psd > threshold  # Identify indices above the threshold for filtering\n",
    "    fhat = indices * fhat  # Apply filtering to the FFT coefficients\n",
    "    ffilt = np.fft.ifft(fhat)  # Compute the inverse FFT\n",
    "    ffilt = ffilt.real  # Take the real part of the inverse FFT\n",
    "\n",
    "    return ffilt"
   ],
   "metadata": {
    "collapsed": false,
    "pycharm": {
     "name": "#%%\n"
    }
   }
  },
  {
   "cell_type": "code",
   "execution_count": 6,
   "outputs": [],
   "source": [
    "def segmentation(signal, rpeak, h, d, S, D):\n",
    "    begin, end = 0, 0\n",
    "    margin = rpeak[0]\n",
    "    pieces = []\n",
    "\n",
    "    for num in range(1, len(rpeak)):\n",
    "        begin = end\n",
    "        end = rpeak[num] - margin\n",
    "        pieces.append(signal[begin: end])\n",
    "\n",
    "    Nmax = 0\n",
    "    for piece in pieces:\n",
    "        Nmax = max(Nmax, piece.shape[0])\n",
    "\n",
    "    pieces_padded = []\n",
    "    for piece in pieces:\n",
    "        N = Nmax - piece.shape[0]\n",
    "        pieces_padded.append(np.pad(piece, (0, N), 'constant'))\n",
    "    pieces_padded = np.array(pieces_padded)\n",
    "\n",
    "    template = np.median(pieces_padded, 0)\n",
    "\n",
    "    # template_peaks_ = get_peaks(template, distance, duration, fs)\n",
    "    template_peaks_, _ = find_peaks(template, height=np.max(template) * h, distance=len(template) * d)\n",
    "    template_peaks = []\n",
    "\n",
    "    if len(template_peaks_) == 2:\n",
    "        template_peaks = template_peaks_\n",
    "    elif len(template_peaks_) > 2:\n",
    "        mmax = np.argmax(template[template_peaks_])\n",
    "        template_peaks.append(template_peaks_[mmax])\n",
    "        template_peaks_ = np.delete(template_peaks_, mmax)\n",
    "        mmax2 = np.argmax(template[template_peaks_])\n",
    "        template_peaks.append(template_peaks_[mmax2])\n",
    "    elif len(template_peaks_) < 2:\n",
    "        plt.figure()\n",
    "        plt.plot(template)\n",
    "        plt.scatter(template_peaks_, template[template_peaks_])\n",
    "        plt.show()\n",
    "        return None\n",
    "\n",
    "\n",
    "\n",
    "    dis12 = template_peaks[1] - template_peaks[0]\n",
    "    dis21 = Nmax - dis12\n",
    "    A0 = template[template_peaks[0]]\n",
    "    A1 = template[template_peaks[1]]\n",
    "    plt.figure()\n",
    "    plt.plot(template)\n",
    "    plt.scatter(template_peaks_, template[template_peaks_])\n",
    "    plt.title(f'dis12/dis21:{dis12/dis21}, A0/A1:{A0/A1}, S:{S}, D:{D}')\n",
    "    plt.show()\n",
    "\n",
    "    return [dis12/dis21, A0/A1]"
   ],
   "metadata": {
    "collapsed": false,
    "pycharm": {
     "name": "#%%\n"
    }
   }
  },
  {
   "cell_type": "code",
   "execution_count": 7,
   "outputs": [],
   "source": [
    "def update_array(a, data_tmp):\n",
    "    i = 0\n",
    "    while i < len(a) - 2:\n",
    "        if data_tmp[a[i]] < data_tmp[a[i + 1]] < data_tmp[a[i + 2]]:\n",
    "            a = np.delete(a, i)\n",
    "        elif data_tmp[a[i]] > data_tmp[a[i + 1]] > data_tmp[a[i + 2]]:\n",
    "            a = np.delete(a, i + 2)\n",
    "        else:\n",
    "            i += 1\n",
    "    return a"
   ],
   "metadata": {
    "collapsed": false,
    "pycharm": {
     "name": "#%%\n"
    }
   }
  },
  {
   "cell_type": "code",
   "execution_count": 49,
   "outputs": [
    {
     "name": "stdout",
     "output_type": "stream",
     "text": [
      "(4687, 1000) (2816, 1000)\n"
     ]
    }
   ],
   "source": [
    "\n",
    "if __name__=='__main__':\n",
    "\n",
    "    signals_n_8_train, labels_n_8_train = load_('../../Data/Laplace/sim_5000_0.4_90_140_train_laplace.npy')\n",
    "    signals_n_8_test, labels_n_8_test = load_('../../Data/Laplace/sim_3000_0.4_141_178_test_laplace.npy')\n",
    "\n",
    "    signals_n_8_train_ls = []\n",
    "    labels_n_8_train_ls = []\n",
    "    for cnt, signal in enumerate(signals_n_8_train):\n",
    "        if max(signal) > 1:\n",
    "            continue\n",
    "        signals_n_8_train_ls.append(signal)\n",
    "        labels_n_8_train_ls.append(labels_n_8_train[cnt])\n",
    "\n",
    "\n",
    "    signals_n_8_test_ls = []\n",
    "    labels_n_8_test_ls = []\n",
    "    for cnt, signal in enumerate(signals_n_8_test):\n",
    "        if max(signal) > 1:\n",
    "            continue\n",
    "        signals_n_8_test_ls.append(signal)\n",
    "        labels_n_8_test_ls.append(labels_n_8_test[cnt])\n",
    "\n",
    "    signals_n_8_train = np.array(signals_n_8_train_ls)\n",
    "    signals_n_8_test = np.array(signals_n_8_test_ls)\n",
    "    labels_n_8_train = np.array(labels_n_8_train_ls)\n",
    "    labels_n_8_test = np.array(labels_n_8_test_ls)\n",
    "\n",
    "    print(signals_n_8_train.shape, signals_n_8_test.shape)\n",
    "\n",
    "\n",
    "\n",
    "    def extract(signals, labels, aplha):\n",
    "        features = []\n",
    "        idxs = []\n",
    "        for cnt, signal in enumerate(signals):\n",
    "            hr = labels[cnt, 2]\n",
    "            savgol_trend = savgol_filter(signal,window_length=32, polyorder=3)\n",
    "            savgol_signal = signal - savgol_trend\n",
    "            fft_savgol_signal = fft_denoise(savgol_signal, 2)\n",
    "            peaks, _ = find_peaks(fft_savgol_signal, height=np.max(fft_savgol_signal) * 0.12, distance=2000 // (hr * aplha))\n",
    "            peaks = update_array(peaks, fft_savgol_signal / np.max(fft_savgol_signal))\n",
    "            if len(peaks) % 2 != 0:\n",
    "                peaks = np.delete(peaks, len(peaks) - 1)\n",
    "\n",
    "            feature = get_features(fft_savgol_signal, peaks)\n",
    "            features.append(feature)\n",
    "            #\n",
    "            # if cnt % 61 == 0:\n",
    "            #     plt.figure()\n",
    "            #     plt.plot(signal)\n",
    "            #     plt.plot(fft_savgol_signal)\n",
    "            #     plt.scatter(peaks, fft_savgol_signal[peaks])\n",
    "            #     plt.show()\n",
    "\n",
    "            #\n",
    "            # if cnt > 1000:\n",
    "            #     break\n",
    "        return np.array(features), np.array(idxs)\n",
    "\n",
    "    features_train, idxs_train = extract(signals_n_8_train, labels_n_8_train, 1)\n",
    "    features_test, idxs_test = extract(signals_n_8_test, labels_n_8_test, 1.2)\n"
   ],
   "metadata": {
    "collapsed": false,
    "pycharm": {
     "name": "#%%\n"
    }
   }
  },
  {
   "cell_type": "code",
   "execution_count": 50,
   "outputs": [
    {
     "data": {
      "text/plain": "<Figure size 432x288 with 1 Axes>",
      "image/png": "[encoded data removed]"
     },
     "metadata": {
      "needs_background": "light"
     },
     "output_type": "display_data"
    },
    {
     "name": "stdout",
     "output_type": "stream",
     "text": [
      "0.9048605724001888\n",
      "Saved plot to ./pic/NK2_L_0.4_S.jpg\n"
     ]
    },
    {
     "data": {
      "text/plain": "<Figure size 432x288 with 1 Axes>",
      "image/png": "[encoded data removed]"
     },
     "metadata": {
      "needs_background": "light"
     },
     "output_type": "display_data"
    }
   ],
   "source": [
    "    plt.figure()\n",
    "    plt.scatter(np.array(features_train)[:, 0], labels_n_8_train[:, 4])\n",
    "    plt.scatter(np.array(features_test)[:, 0], labels_n_8_test[:, 4])\n",
    "    plt.show()\n",
    "\n",
    "    from sklearn.linear_model import LinearRegression as LR\n",
    "\n",
    "    reg = LR().fit(np.array(features_train)[:, 0].reshape(-1, 1), labels_n_8_train[:, 4])\n",
    "    yhat = reg.predict(np.array(features_test)[:, 0].reshape(-1, 1))\n",
    "    print(np.mean(np.abs(yhat - labels_n_8_test[:, 4])))\n",
    "\n",
    "    from Code.Tutorial.utils import plot_2vectors\n",
    "    # path = './pic/NK2_0.8_S'\n",
    "    plot_2vectors( labels_n_8_test[:, 4], yhat, True, 'S_0.4', './pic/NK2_L_0.4_S')\n"
   ],
   "metadata": {
    "collapsed": false,
    "pycharm": {
     "name": "#%%\n"
    }
   }
  },
  {
   "cell_type": "code",
   "execution_count": 48,
   "outputs": [
    {
     "name": "stdout",
     "output_type": "stream",
     "text": [
      "6.117374725335924\n",
      "Saved plot to ./pic/NK2_L_0.8_D.jpg\n"
     ]
    },
    {
     "data": {
      "text/plain": "<Figure size 432x288 with 1 Axes>",
      "image/png": "[encoded data removed]"
     },
     "metadata": {
      "needs_background": "light"
     },
     "output_type": "display_data"
    }
   ],
   "source": [
    "    # plt.figure()\n",
    "    # plt.scatter(np.nan_to_num(np.array(features_train)[:, 1]), labels_n_8_train[:, 5])\n",
    "    # plt.scatter(np.nan_to_num(np.array(features_test)[:, 1]), labels_n_8_test[:, 5])\n",
    "    # plt.show()\n",
    "\n",
    "    from sklearn.linear_model import LinearRegression as LR\n",
    "\n",
    "    reg = LR().fit(np.nan_to_num(np.array(features_train)[:, 1].reshape(-1, 1)), labels_n_8_train[:, 5])\n",
    "    yhat = reg.predict(np.nan_to_num(np.array(features_test)[:, 1].reshape(-1, 1)))\n",
    "    print(np.mean(np.abs(yhat - labels_n_8_test[:, 5])))\n",
    "\n",
    "    from Code.Tutorial.utils import plot_2vectors\n",
    "\n",
    "    plot_2vectors( labels_n_8_test[:, 5], yhat, True, 'D_0.4', './pic/NK2_L_0.8_D')"
   ],
   "metadata": {
    "collapsed": false,
    "pycharm": {
     "name": "#%%\n"
    }
   }
  },
  {
   "cell_type": "code",
   "execution_count": null,
   "outputs": [],
   "source": [],
   "metadata": {
    "collapsed": false,
    "pycharm": {
     "name": "#%%\n"
    }
   }
  }
 ],
 "metadata": {
  "kernelspec": {
   "display_name": "Python 3",
   "language": "python",
   "name": "python3"
  },
  "language_info": {
   "codemirror_mode": {
    "name": "ipython",
    "version": 2
   },
   "file_extension": ".py",
   "mimetype": "text/x-python",
   "name": "python",
   "nbconvert_exporter": "python",
   "pygments_lexer": "ipython2",
   "version": "2.7.6"
  }
 },
 "nbformat": 4,
 "nbformat_minor": 0
}