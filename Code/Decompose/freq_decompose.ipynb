{
 "cells": [
  {
   "cell_type": "code",
   "execution_count": 1,
   "metadata": {
    "collapsed": true,
    "pycharm": {
     "name": "#%%\n"
    }
   },
   "outputs": [],
   "source": [
    "import numpy as np\n",
    "import matplotlib.pyplot as plt\n",
    "from scipy.signal import find_peaks\n",
    "from scipy.interpolate import interp1d"
   ]
  },
  {
   "cell_type": "code",
   "execution_count": 2,
   "outputs": [],
   "source": [
    "def std_data(RR):\n",
    "    if RR == 0:\n",
    "        path_train = \"D:\\PHD\\Research\\Data\\RemoveRR\\sim_5000_0_90_140_train_NoRR.npy\"\n",
    "        path_test = \"D:\\PHD\\Research\\Data\\RemoveRR\\sim_3000_0_141_178_test_NoRR.npy\"\n",
    "    elif RR == 1:\n",
    "        path_train = \"D:\\PHD\\Research\\Data\\RemoveRR\\sim_5000_0_90_140_train_RR.npy\"\n",
    "        path_test = \"D:\\PHD\\Research\\Data\\RemoveRR\\sim_3000_0_141_178_test_RR.npy\"\n",
    "\n",
    "    data_train = np.load(path_train)\n",
    "    data_test = np.load(path_test)\n",
    "    signals_train_l, labels_train_l = data_train[:, :1000], data_train[:, 1000:]\n",
    "    signals_test_l, labels_test_l = data_test[:, :1000], data_test[:, 1000:]\n",
    "\n",
    "    signals_l_train_ls = []\n",
    "    labels_l_train_ls = []\n",
    "    for cnt, signal in enumerate(signals_train_l):\n",
    "        if max(signal) > 1:\n",
    "            continue\n",
    "        signals_l_train_ls.append(signal)\n",
    "        labels_l_train_ls.append(labels_train_l[cnt])\n",
    "\n",
    "    signals_l_test_ls = []\n",
    "    labels_l_test_ls = []\n",
    "    for cnt, signal in enumerate(signals_test_l):\n",
    "        if max(signal) > 1:\n",
    "            continue\n",
    "        signals_l_test_ls.append(signal)\n",
    "        labels_l_test_ls.append(labels_test_l[cnt])\n",
    "\n",
    "\n",
    "    signals_l_train = np.array(signals_l_train_ls)\n",
    "    signals_l_test = np.array(signals_l_test_ls)\n",
    "    labels_l_train = np.array(labels_l_train_ls)\n",
    "    labels_l_test = np.array(labels_l_test_ls)\n",
    "    print(signals_l_train.shape, labels_l_test.shape)\n",
    "    return labels_l_train, labels_l_test, signals_l_train, signals_l_test"
   ],
   "metadata": {
    "collapsed": false,
    "pycharm": {
     "name": "#%%\n"
    }
   }
  },
  {
   "cell_type": "code",
   "execution_count": 3,
   "outputs": [],
   "source": [
    "# peaks detection from Yida\n",
    "def update_array(a, data_tmp):\n",
    "    i = 0\n",
    "    while i < len(a) - 2:\n",
    "        if data_tmp[a[i]] < data_tmp[a[i + 1]] < data_tmp[a[i + 2]]:\n",
    "            a = np.delete(a, i)\n",
    "        elif data_tmp[a[i]] > data_tmp[a[i + 1]] > data_tmp[a[i + 2]]:\n",
    "            a = np.delete(a, i + 2)\n",
    "        else:\n",
    "            i += 1\n",
    "    return a\n",
    "\n",
    "def get_peaks(data_tmp, duration, sampling_rate, dis):\n",
    "    max = np.max(data_tmp)\n",
    "    data_tmp = data_tmp / max\n",
    "\n",
    "    t = np.linspace(0, duration, duration * sampling_rate)\n",
    "    signal = data_tmp\n",
    "\n",
    "    peak_indices, _ = find_peaks(signal)\n",
    "\n",
    "    t_peaks = t[peak_indices]\n",
    "    peak_values = signal[peak_indices]\n",
    "    interpolation_func = interp1d(t_peaks, peak_values, kind='linear', bounds_error=False, fill_value=0)\n",
    "    envelope = interpolation_func(t)\n",
    "\n",
    "    peaks2, _ = find_peaks(envelope, distance=dis)\n",
    "\n",
    "    peaks2 = update_array(peaks2, data_tmp)\n",
    "    if len(peaks2) % 2 != 0:\n",
    "        peaks2 = np.delete(peaks2, len(peaks2) - 1)\n",
    "\n",
    "    return peaks2\n"
   ],
   "metadata": {
    "collapsed": false,
    "pycharm": {
     "name": "#%%\n"
    }
   }
  },
  {
   "cell_type": "code",
   "execution_count": 4,
   "outputs": [],
   "source": [
    "def update_array(a, data_tmp):\n",
    "    i = 0\n",
    "    while i < len(a) - 2:\n",
    "        if data_tmp[a[i]] < data_tmp[a[i + 1]] < data_tmp[a[i + 2]]:\n",
    "            a = np.delete(a, i)\n",
    "        elif data_tmp[a[i]] > data_tmp[a[i + 1]] > data_tmp[a[i + 2]]:\n",
    "            a = np.delete(a, i + 2)\n",
    "        else:\n",
    "            i += 1\n",
    "    return a"
   ],
   "metadata": {
    "collapsed": false,
    "pycharm": {
     "name": "#%%\n"
    }
   }
  },
  {
   "cell_type": "code",
   "execution_count": 5,
   "outputs": [],
   "source": [
    "def delete_unique(a):\n",
    "    mean = np.mean(a)\n",
    "    std = np.std(a)\n",
    "    threshold = 1\n",
    "    filtered_a = a[np.abs(a - mean) <= threshold * std]\n",
    "\n",
    "    return filtered_a\n",
    "\n",
    "def get_mag_0(peaks2, data_tmp):\n",
    "    mag = data_tmp[peaks2[::2]]\n",
    "    mean_mag = np.mean(mag)\n",
    "    std_mag = np.std(mag)\n",
    "    filtered_mag = mag[np.abs(mag-mean_mag) <= std_mag]\n",
    "    return np.mean(filtered_mag)\n",
    "\n",
    "def get_mag_1(peaks2, data_tmp):\n",
    "    mag = data_tmp[peaks2[1::2]]\n",
    "    mean_mag = np.mean(mag)\n",
    "    std_mag = np.std(mag)\n",
    "    filtered_mag = mag[np.abs(mag-mean_mag) <= std_mag]\n",
    "    return np.mean(filtered_mag)\n",
    "\n",
    "def get_features(data_tmp, peaks2):\n",
    "    maxm = np.max(data_tmp)\n",
    "    data_tmp_raw = data_tmp\n",
    "\n",
    "    data_tmp = data_tmp_raw / maxm\n",
    "\n",
    "    diff_12 = peaks2[1::2] - peaks2[0::2]\n",
    "    diff_21 = peaks2[2::2] - peaks2[1:-1:2]\n",
    "\n",
    "    diff_12 = delete_unique(diff_12)\n",
    "    diff_21 = delete_unique(diff_21)\n",
    "\n",
    "    m_12 = np.mean(diff_12)\n",
    "    m_21 = np.mean(diff_21)\n",
    "\n",
    "    mag_1 = get_mag_1(peaks2, data_tmp)\n",
    "    mag_0 = get_mag_0(peaks2, data_tmp)\n",
    "\n",
    "    features = np.array([ m_12/m_21, mag_0/mag_1])\n",
    "\n",
    "    return features"
   ],
   "metadata": {
    "collapsed": false,
    "pycharm": {
     "name": "#%%\n"
    }
   }
  },
  {
   "cell_type": "code",
   "execution_count": 28,
   "outputs": [
    {
     "name": "stdout",
     "output_type": "stream",
     "text": [
      "(4687, 1000) (2853, 6)\n",
      "(4687, 1000) (2853, 6)\n"
     ]
    },
    {
     "data": {
      "text/plain": "<Figure size 720x108 with 1 Axes>",
      "image/png": "[encoded data removed]"
     },
     "metadata": {
      "needs_background": "light"
     },
     "output_type": "display_data"
    },
    {
     "data": {
      "text/plain": "<Figure size 432x288 with 1 Axes>",
      "image/png": "[encoded data removed]"
     },
     "metadata": {
      "needs_background": "light"
     },
     "output_type": "display_data"
    }
   ],
   "source": [
    "# from tqdm import tqdm\n",
    "from sklearn.decomposition import FastICA\n",
    "\n",
    "from Code.Tutorial.decompose import eemd_decomposition, vmd_decomposition\n",
    "if __name__=='__main__':\n",
    "    labels_train_NoRR, labels_test_NoRR, signals_train_NoRR, signals_test_NoRR = std_data(0)\n",
    "    labels_train_RR, labels_test_RR, signals_train_RR, signals_test_RR = std_data(1)\n",
    "    signal = signals_train_RR[0]\n",
    "\n",
    "    sample_rate = 100\n",
    "    fft1 = np.fft.fft(signal)\n",
    "\n",
    "    n = len(signal)\n",
    "    # 计算频率轴\n",
    "    freq = np.fft.fftfreq(n, d=1 / sample_rate)\n",
    "\n",
    "    # 仅保留正半轴的频谱\n",
    "    positive_freq_indices = np.where(freq >= 0)\n",
    "    positive_freq = freq[positive_freq_indices]\n",
    "    positive_fft1 = np.abs(fft1[positive_freq_indices])\n",
    "    plt.figure(figsize=(10, 1.5))\n",
    "    # plt.plot(positive_freq, positive_fft1)\n",
    "    plt.plot(positive_fft1)\n",
    "    #\n",
    "    # u_25 = vmd_decomposition(fft1, K=2, alpha=25, tau=0, DC=0, init=1, tol=1e-7, show=True)\n",
    "    # # u_20 = vmd_decomposition(positive_fft1, K=2, alpha=20, tau=0, DC=0, init=1, tol=1e-7, show=False)\n",
    "    # plt.plot(u_25[0, :])\n",
    "    # ffilt = np.fft.ifft(u_25[0, :])  # Compute the inverse FFT\n",
    "    # ffilt = ffilt.real  # Take the real part of the inverse FFT\n",
    "    ffilt = np.fft.ifft(np.abs(fft1))  # Compute the inverse FFT\n",
    "    ffilt = ffilt.real  # Take the real part of the inverse FFT\n",
    "    plt.show()\n",
    "    plt.plot(ffilt)"
   ],
   "metadata": {
    "collapsed": false,
    "pycharm": {
     "name": "#%%\n"
    }
   }
  },
  {
   "cell_type": "code",
   "execution_count": null,
   "outputs": [],
   "source": [],
   "metadata": {
    "collapsed": false,
    "pycharm": {
     "name": "#%%\n"
    }
   }
  },
  {
   "cell_type": "code",
   "execution_count": null,
   "outputs": [],
   "source": [],
   "metadata": {
    "collapsed": false,
    "pycharm": {
     "name": "#%%\n"
    }
   }
  }
 ],
 "metadata": {
  "kernelspec": {
   "display_name": "Python 3",
   "language": "python",
   "name": "python3"
  },
  "language_info": {
   "codemirror_mode": {
    "name": "ipython",
    "version": 2
   },
   "file_extension": ".py",
   "mimetype": "text/x-python",
   "name": "python",
   "nbconvert_exporter": "python",
   "pygments_lexer": "ipython2",
   "version": "2.7.6"
  }
 },
 "nbformat": 4,
 "nbformat_minor": 0
}