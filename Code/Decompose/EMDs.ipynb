{
 "cells": [
  {
   "cell_type": "code",
   "execution_count": 3,
   "outputs": [],
   "source": [
    "from PyEMD import CEEMDAN\n",
    "import matplotlib.pyplot as plt\n",
    "from Code.Tutorial.Dataset  import load_scg\n",
    "import numpy as np"
   ],
   "metadata": {
    "collapsed": false,
    "pycharm": {
     "name": "#%%\n"
    }
   }
  },
  {
   "cell_type": "code",
   "execution_count": 11,
   "outputs": [
    {
     "name": "stdout",
     "output_type": "stream",
     "text": [
      "(4718, 1000) (2822, 6)\n"
     ]
    }
   ],
   "source": [
    "def ceemdan_decompose_res(data):\n",
    "    ceemdan = CEEMDAN()\n",
    "    res = ceemdan.ceemdan(data)\n",
    "    # imfs, res = ceemdan.get_imfs_and_residue()\n",
    "    # plt.figure(figsize=(12,9))\n",
    "    # plt.subplots_adjust(hspace=0.1)\n",
    "    # plt.subplot(imfs.shape[0]+3, 1, 1)\n",
    "    # plt.plot(data,'r')\n",
    "    # for i in range(imfs.shape[0]):\n",
    "    #     plt.subplot(imfs.shape[0]+3,1,i+2)\n",
    "    #     plt.plot(imfs[i], 'g')\n",
    "    #     plt.ylabel(\"IMF %i\" %(i+1))\n",
    "    #     plt.locator_params(axis='x', nbins=10)\n",
    "    #     IImfs.append(imfs[i])\n",
    "    # plt.subplot(imfs.shape[0]+3, 1, imfs.shape[0]+3)\n",
    "    # plt.plot(res,'g')\n",
    "    return res\n",
    "\n",
    "def std_data(noise_level):\n",
    "    signals_train_l, labels_train_l, duration, fs = load_scg(noise_level, 'train')\n",
    "    signals_test_l, labels_test_l, _, _ = load_scg(noise_level, 'test')\n",
    "\n",
    "    signals_l_train_ls = []\n",
    "    labels_l_train_ls = []\n",
    "    for cnt, signal in enumerate(signals_train_l):\n",
    "        if max(signal) > 1:\n",
    "            continue\n",
    "        signals_l_train_ls.append(signal)\n",
    "        labels_l_train_ls.append(labels_train_l[cnt])\n",
    "\n",
    "    signals_l_test_ls = []\n",
    "    labels_l_test_ls = []\n",
    "    for cnt, signal in enumerate(signals_test_l):\n",
    "        if max(signal) > 1:\n",
    "            continue\n",
    "        signals_l_test_ls.append(signal)\n",
    "        labels_l_test_ls.append(labels_test_l[cnt])\n",
    "\n",
    "\n",
    "    signals_l_train = np.array(signals_l_train_ls)\n",
    "    signals_l_test = np.array(signals_l_test_ls)\n",
    "    labels_l_train = np.array(labels_l_train_ls)\n",
    "    labels_l_test = np.array(labels_l_test_ls)\n",
    "    print(signals_l_train.shape, labels_l_test.shape)\n",
    "\n",
    "    return labels_l_train, labels_l_test, signals_l_train, signals_l_test\n",
    "\n",
    "labels_l_0_train, labels_l_0_test, signals_l_0_train, signals_l_0_test = std_data(0)\n",
    "\n",
    "IImfs=[]\n",
    "signal = signals_l_0_train[0]\n",
    "signal = (signal - signal.mean()) / signal.std()\n",
    "res=ceemdan_decompose_res(signal)"
   ],
   "metadata": {
    "collapsed": false,
    "pycharm": {
     "name": "#%%\n"
    }
   }
  },
  {
   "cell_type": "code",
   "execution_count": null,
   "outputs": [],
   "source": [],
   "metadata": {
    "collapsed": false,
    "pycharm": {
     "name": "#%%\n"
    }
   }
  }
 ],
 "metadata": {
  "kernelspec": {
   "display_name": "Python 3",
   "language": "python",
   "name": "python3"
  },
  "language_info": {
   "codemirror_mode": {
    "name": "ipython",
    "version": 2
   },
   "file_extension": ".py",
   "mimetype": "text/x-python",
   "name": "python",
   "nbconvert_exporter": "python",
   "pygments_lexer": "ipython2",
   "version": "2.7.6"
  }
 },
 "nbformat": 4,
 "nbformat_minor": 0
}