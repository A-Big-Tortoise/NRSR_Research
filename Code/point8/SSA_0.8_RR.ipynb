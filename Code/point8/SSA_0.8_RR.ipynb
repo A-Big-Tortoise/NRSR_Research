{
 "cells": [
  {
   "cell_type": "code",
   "execution_count": null,
   "outputs": [],
   "source": [
    "import numpy as np\n",
    "from algo_ssa import SSA\n",
    "from scipy.signal import find_peaks\n",
    "from scipy.interpolate import interp1d\n",
    "import matplotlib.pylab as plt\n",
    "from tqdm import tqdm\n",
    "\n",
    "plt.rcParams['figure.figsize'] = (10,8)\n",
    "plt.rcParams['font.size'] = 14\n",
    "plt.rcParams['image.cmap'] = 'plasma'\n",
    "plt.rcParams['axes.linewidth'] = 2"
   ],
   "metadata": {
    "collapsed": false,
    "pycharm": {
     "name": "#%%\n"
    }
   }
  },
  {
   "cell_type": "code",
   "execution_count": null,
   "outputs": [],
   "source": [
    "def update_array(a, data_tmp):\n",
    "    i = 0\n",
    "    while i < len(a) - 2:\n",
    "        if data_tmp[a[i]] < data_tmp[a[i + 1]] < data_tmp[a[i + 2]]:\n",
    "            a = np.delete(a, i)\n",
    "        elif data_tmp[a[i]] > data_tmp[a[i + 1]] > data_tmp[a[i + 2]]:\n",
    "            a = np.delete(a, i + 2)\n",
    "        else:\n",
    "            i += 1\n",
    "    return a\n",
    "\n",
    "def get_peaks(data_tmp, distance, duration, sampling_rate):\n",
    "    data_tmp = data_tmp / np.max(data_tmp)\n",
    "\n",
    "    t = np.linspace(0, duration, duration * sampling_rate)\n",
    "    signal = data_tmp\n",
    "\n",
    "    peak_indices, _ = find_peaks(signal)\n",
    "\n",
    "    t_peaks = t[peak_indices]\n",
    "    peak_values = signal[peak_indices]\n",
    "    interpolation_func = interp1d(t_peaks, peak_values, kind='linear', bounds_error=False, fill_value=0)\n",
    "    envelope = interpolation_func(t)\n",
    "\n",
    "    peaks2, _ = find_peaks(envelope, distance=distance)\n",
    "\n",
    "    peaks2 = update_array(peaks2, data_tmp)\n",
    "    if len(peaks2) % 2 != 0:\n",
    "        peaks2 = np.delete(peaks2, len(peaks2) - 1)\n",
    "\n",
    "    return peaks2"
   ],
   "metadata": {
    "collapsed": false,
    "pycharm": {
     "name": "#%%\n"
    }
   }
  },
  {
   "cell_type": "code",
   "execution_count": null,
   "outputs": [],
   "source": [
    "def delete_unique(a):\n",
    "    mean = np.mean(a)\n",
    "    std = np.std(a)\n",
    "    threshold = 1\n",
    "    filtered_a = a[np.abs(a - mean) <= threshold * std]\n",
    "\n",
    "    return filtered_a\n",
    "\n",
    "def get_mag_0(peaks2, data_tmp):\n",
    "    mag = data_tmp[peaks2[::2]]\n",
    "    mean_mag = np.mean(mag)\n",
    "    std_mag = np.std(mag)\n",
    "    filtered_mag = mag[np.abs(mag-mean_mag) <= std_mag]\n",
    "    return np.mean(filtered_mag)\n",
    "\n",
    "def get_mag_1(peaks2, data_tmp):\n",
    "    mag = data_tmp[peaks2[1::2]]\n",
    "    mean_mag = np.mean(mag)\n",
    "    std_mag = np.std(mag)\n",
    "    filtered_mag = mag[np.abs(mag-mean_mag) <= std_mag]\n",
    "    return np.mean(filtered_mag)\n",
    "\n",
    "def get_features(data_tmp, peaks2):\n",
    "    maxm = np.max(data_tmp)\n",
    "    data_tmp_raw = data_tmp\n",
    "    data_tmp = data_tmp / maxm\n",
    "\n",
    "    data_tmp = data_tmp_raw / maxm\n",
    "\n",
    "    diff_12 = peaks2[1::2] - peaks2[0::2]\n",
    "    diff_21 = peaks2[2::2] - peaks2[1:-1:2]\n",
    "    diff_22 = peaks2[2::2] - peaks2[:-2:2]\n",
    "\n",
    "    diff_12 = delete_unique(diff_12)\n",
    "    diff_21 = delete_unique(diff_21)\n",
    "    diff_22 = delete_unique(diff_22)\n",
    "\n",
    "    m_12 = np.mean(diff_12)\n",
    "    m_21 = np.mean(diff_21)\n",
    "    m_22 = np.mean(diff_22)\n",
    "\n",
    "    mag_1 = get_mag_1(peaks2, data_tmp)\n",
    "    mag_0 = get_mag_0(peaks2, data_tmp)\n",
    "\n",
    "    features = np.array([m_12, m_21, m_22, m_12 / m_21, mag_0, mag_1, mag_0 - mag_1, mag_0 / mag_1])\n",
    "\n",
    "    return features"
   ],
   "metadata": {
    "collapsed": false,
    "pycharm": {
     "name": "#%%\n"
    }
   }
  },
  {
   "cell_type": "code",
   "execution_count": null,
   "outputs": [],
   "source": [
    "def features_indexes(signals, L, trend2period, distance, show ):\n",
    "\n",
    "    sampling_rate = fs\n",
    "    idx = []\n",
    "    features = []\n",
    "\n",
    "    for i in tqdm(range(len(signals))):\n",
    "        signal = signals[i]\n",
    "        if max(signal) > 1:\n",
    "            continue\n",
    "\n",
    "        ssa_ = SSA(signal, L)\n",
    "        # ssa_.calc_wcorr()\n",
    "\n",
    "        ssa_signal = ssa_.reconstruct(slice(trend2period, L))\n",
    "        peaks = get_peaks(ssa_signal, distance, duration, sampling_rate)\n",
    "\n",
    "        if len(peaks) < 16:\n",
    "            continue\n",
    "\n",
    "        idx.append(i)\n",
    "        \n",
    "        features.append(get_features(ssa_signal, peaks))\n",
    "\n",
    "    return features, idx"
   ],
   "metadata": {
    "collapsed": false,
    "pycharm": {
     "name": "#%%\n"
    }
   }
  },
  {
   "cell_type": "code",
   "execution_count": null,
   "outputs": [],
   "source": [
    "# def features_indexes(signals, L, trend2period, distance, show ):\n",
    "\n",
    "#     sampling_rate = fs\n",
    "#     idx = []\n",
    "#     features = []\n",
    "\n",
    "#     for i in tqdm(range(len(signals))):\n",
    "#         signal = signals[i]\n",
    "#         if max(signal) > 1:\n",
    "#             continue\n",
    "\n",
    "#         ssa_ = SSA(signal, L)\n",
    "#         # ssa_.calc_wcorr()\n",
    "\n",
    "#         ssa_signal = ssa_.reconstruct(slice(trend2period, L))\n",
    "#         peaks = get_peaks(ssa_signal, distance, duration, sampling_rate)\n",
    "\n",
    "#         if len(peaks) < 16:\n",
    "#             continue\n",
    "\n",
    "#         idx.append(i)\n",
    "\n",
    "#         if show:\n",
    "#             ssa_.plot_wcorr()\n",
    "#             # plt.show()\n",
    "\n",
    "#             plt.subplots(3, 1, figsize=(20, 12))\n",
    "#             plt.subplot(3, 1, 1)\n",
    "#             ssa_.orig_TS.plot(alpha=0.3, label='Noisy Signal')\n",
    "#             ssa_.reconstruct(slice(0, trend2period)).plot(label='Noise Trend')\n",
    "#             plt.title('Noisy Signal and its Trend')\n",
    "#             plt.legend()\n",
    "#             plt.subplot(3, 1, 2)\n",
    "#             ssa_.orig_TS.plot(alpha=0.3, label='Noisy Signal')\n",
    "#             ssa_.reconstruct(slice(trend2period, L)).plot(label='Reconstructed Signal')\n",
    "#             plt.title('Noisy Signal and Reconstructed Signal')\n",
    "#             plt.legend()\n",
    "#             plt.subplot(3, 1, 3)\n",
    "#             plt.plot(signals_clean[i], label='Clean Signal')\n",
    "#             ssa_.reconstruct(slice(trend2period, L)).plot(label='Reconstructed Signal')\n",
    "#             plt.plot(ssa_signal)\n",
    "#             plt.scatter(peaks, ssa_signal[peaks])\n",
    "#             plt.title('Clean Signal and Reconstructed Signal')\n",
    "#             plt.legend()\n",
    "\n",
    "#         features.append(get_features(ssa_signal, peaks))\n",
    "#     return features, idx"
   ],
   "metadata": {
    "collapsed": false,
    "pycharm": {
     "name": "#%%\n"
    }
   }
  },
  {
   "cell_type": "code",
   "execution_count": null,
   "outputs": [],
   "source": [
    "if __name__ == '__main__':\n",
    "    duration, fs = 10, 100\n",
    "    data_train = np.load('../Data/SSA_0.8_RR/train.npy')\n",
    "    signals_train, S_train, D_train = data_train[:, :1000], data_train[:, -2], data_train[:, -1]\n",
    "    data_test = np.load('../Data/SSA_0.8_RR/test.npy')\n",
    "    signals_test, S_test, D_test = data_test[:, :1000], data_test[:, -2], data_test[:, -1]\n",
    "    \n",
    "    L = 100\n",
    "    trend2period = 10\n",
    "    show = False\n",
    "\n",
    "    features_train, idx_train = features_indexes(signals_train, L, trend2period, 15, show)\n",
    "    features_test, idx_test = features_indexes(signals_test, L, trend2period, 10, show)"
   ],
   "metadata": {
    "collapsed": false,
    "pycharm": {
     "name": "#%%\n"
    }
   }
  },
  {
   "cell_type": "code",
   "execution_count": null,
   "outputs": [],
   "source": [
    "features_train_np = np.array(features_train)\n",
    "features_test_np = np.array(features_test)\n",
    "idx_train_np = np.array(idx_train)\n",
    "idx_test_np = np.array(idx_test)\n",
    "\n",
    "np.save('./features_train_0.8_5000_RR', features_train_np)\n",
    "np.save('./features_test_0.8_3000_RR', features_test_np)\n",
    "np.save('./idx_train_0.8_5000_RR', idx_train_np)\n",
    "np.save('./idx_test_0.8_3000_RR', idx_test_np)\n",
    "\n",
    "# features_train_np = np.load('features_train_0.8_5000.npy')\n",
    "# features_test_np = np.load('./features_test_0.8_3000.npy')\n",
    "# idx_train = np.load('./idx_train_0.8_5000.npy')\n",
    "# idx_test = np.load('./idx_test_0.8_3000.npy')\n"
   ],
   "metadata": {
    "collapsed": false,
    "pycharm": {
     "name": "#%%\n"
    }
   }
  },
  {
   "cell_type": "code",
   "execution_count": null,
   "outputs": [],
   "source": [
    "plt.scatter(features_train_np[:, 3].reshape(-1, 1), S_train[idx_train])\n",
    "plt.scatter(features_test_np[:, 3].reshape(-1, 1), S_test[idx_test])\n"
   ],
   "metadata": {
    "collapsed": false,
    "pycharm": {
     "name": "#%%\n"
    }
   }
  },
  {
   "cell_type": "code",
   "execution_count": null,
   "outputs": [],
   "source": [
    "from sklearn.linear_model import LinearRegression as LR\n",
    "\n",
    "reg = LR().fit(features_train_np[:, 3].reshape(-1, 1), S_train[idx_train])\n",
    "yhat = reg.predict(features_test_np[:, 3].reshape(-1, 1))\n",
    "np.mean(np.abs(yhat - S_test[idx_test]))\n",
    "\n",
    "from Tutorial.utils import plot_2vectors\n",
    "plot_2vectors( S_test[idx_test], yhat, True, 'S_0.8')"
   ],
   "metadata": {
    "collapsed": false,
    "pycharm": {
     "name": "#%%\n"
    }
   }
  },
  {
   "cell_type": "code",
   "execution_count": null,
   "outputs": [],
   "source": [
    "reg = LR().fit(features_train_np[:, -1].reshape(-1, 1), D_train[idx_train])\n",
    "yhat = reg.predict(features_test_np[:, -1].reshape(-1, 1))\n",
    "np.mean(np.abs(yhat - D_test[idx_test]))\n",
    "\n",
    "from Tutorial.utils import plot_2vectors\n",
    "plot_2vectors( D_test[idx_test], yhat, True, 'D_0.8')"
   ],
   "metadata": {
    "collapsed": false,
    "pycharm": {
     "name": "#%%\n"
    }
   }
  },
  {
   "cell_type": "code",
   "execution_count": 37,
   "metadata": {
    "collapsed": false,
    "jupyter": {
     "outputs_hidden": false
    },
    "pycharm": {
     "name": "#%%\n"
    }
   },
   "outputs": [
    {
     "name": "stdout",
     "output_type": "stream",
     "text": [
      "Saved plot to S_0.8.jpg\n"
     ]
    },
    {
     "data": {
      "image/png": "[encoded data removed]",
      "text/plain": [
       "<Figure size 1000x800 with 1 Axes>"
      ]
     },
     "metadata": {},
     "output_type": "display_data"
    }
   ],
   "source": [
    "from sklearn.linear_model import LinearRegression as LR\n",
    "\n",
    "reg = LR().fit(features_train_np[:, 3].reshape(-1, 1), S_train[idx_train])\n",
    "yhat = reg.predict(features_test_np[:, 3].reshape(-1, 1))\n",
    "np.mean(np.abs(yhat - S_test[idx_test]))\n",
    "\n",
    "from Tutorial.utils import plot_2vectors\n",
    "plot_2vectors( S_test[idx_test], yhat, True, 'S_0.8')"
   ]
  },
  {
   "cell_type": "code",
   "execution_count": 38,
   "metadata": {
    "collapsed": false,
    "jupyter": {
     "outputs_hidden": false
    },
    "pycharm": {
     "name": "#%%\n"
    }
   },
   "outputs": [
    {
     "name": "stdout",
     "output_type": "stream",
     "text": [
      "Saved plot to D_0.8.jpg\n"
     ]
    },
    {
     "data": {
      "image/png": "[encoded data removed]",
      "text/plain": [
       "<Figure size 1000x800 with 1 Axes>"
      ]
     },
     "metadata": {},
     "output_type": "display_data"
    }
   ],
   "source": [
    "reg = LR().fit(features_train_np[:, -1].reshape(-1, 1), D_train[idx_train])\n",
    "yhat = reg.predict(features_test_np[:, -1].reshape(-1, 1))\n",
    "np.mean(np.abs(yhat - D_test[idx_test]))\n",
    "\n",
    "from Tutorial.utils import plot_2vectors\n",
    "plot_2vectors( D_test[idx_test], yhat, True, 'D_0.8')"
   ]
  },
  {
   "cell_type": "code",
   "execution_count": null,
   "metadata": {
    "collapsed": false,
    "jupyter": {
     "outputs_hidden": false
    },
    "pycharm": {
     "name": "#%%\n"
    }
   },
   "outputs": [],
   "source": []
  }
 ],
 "metadata": {
  "kernelspec": {
   "display_name": "graphgym",
   "language": "python",
   "name": "graphgym"
  },
  "language_info": {
   "codemirror_mode": {
    "name": "ipython",
    "version": 3
   },
   "file_extension": ".py",
   "mimetype": "text/x-python",
   "name": "python",
   "nbconvert_exporter": "python",
   "pygments_lexer": "ipython3",
   "version": "3.8.13"
  }
 },
 "nbformat": 4,
 "nbformat_minor": 4
}