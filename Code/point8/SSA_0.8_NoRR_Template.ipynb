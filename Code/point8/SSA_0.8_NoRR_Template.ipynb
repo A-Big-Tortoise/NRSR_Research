{
 "cells": [
  {
   "cell_type": "code",
   "execution_count": 6,
   "outputs": [],
   "source": [
    "import numpy as np\n",
    "\n",
    "from Code.Tutorial.algo_ssa import SSA\n",
    "from Code.Tutorial.Dataset import load_scg\n",
    "from scipy.signal import find_peaks\n",
    "from scipy.interpolate import interp1d\n",
    "import matplotlib.pylab as plt\n",
    "from tqdm import tqdm\n",
    "\n",
    "plt.rcParams['figure.figsize'] = (10,8)\n",
    "plt.rcParams['font.size'] = 14\n",
    "plt.rcParams['image.cmap'] = 'plasma'\n",
    "plt.rcParams['axes.linewidth'] = 2"
   ],
   "metadata": {
    "collapsed": false,
    "pycharm": {
     "name": "#%%\n"
    }
   }
  },
  {
   "cell_type": "code",
   "execution_count": 9,
   "outputs": [],
   "source": [
    "def update_array(a, data_tmp):\n",
    "    i = 0\n",
    "    while i < len(a) - 2:\n",
    "        if data_tmp[a[i]] < data_tmp[a[i + 1]] < data_tmp[a[i + 2]]:\n",
    "            a = np.delete(a, i)\n",
    "        elif data_tmp[a[i]] > data_tmp[a[i + 1]] > data_tmp[a[i + 2]]:\n",
    "            a = np.delete(a, i + 2)\n",
    "        else:\n",
    "            i += 1\n",
    "    return a\n",
    "\n",
    "def get_peaks(data_tmp, distance, duration, sampling_rate):\n",
    "    data_tmp = data_tmp / np.max(data_tmp)\n",
    "\n",
    "    t = np.linspace(0, duration, duration * sampling_rate)\n",
    "    signal = data_tmp\n",
    "\n",
    "    peak_indices, _ = find_peaks(signal)\n",
    "\n",
    "    t_peaks = t[peak_indices]\n",
    "    peak_values = signal[peak_indices]\n",
    "    interpolation_func = interp1d(t_peaks, peak_values, kind='linear', bounds_error=False, fill_value=0)\n",
    "    envelope = interpolation_func(t)\n",
    "\n",
    "    peaks2, _ = find_peaks(envelope,distance=distance)\n",
    "\n",
    "    peaks2 = update_array(peaks2, data_tmp)\n",
    "    if len(peaks2) % 2 != 0:\n",
    "        peaks2 = np.delete(peaks2, len(peaks2) - 1)\n",
    "\n",
    "    return peaks2"
   ],
   "metadata": {
    "collapsed": false,
    "pycharm": {
     "name": "#%%\n"
    }
   }
  },
  {
   "cell_type": "code",
   "execution_count": 10,
   "outputs": [],
   "source": [
    "def delete_unique(a):\n",
    "    mean = np.mean(a)\n",
    "    std = np.std(a)\n",
    "    threshold = 1\n",
    "    filtered_a = a[np.abs(a - mean) <= threshold * std]\n",
    "\n",
    "    return filtered_a\n",
    "\n",
    "def get_mag_0(peaks2, data_tmp):\n",
    "    mag = data_tmp[peaks2[::2]]\n",
    "    mean_mag = np.mean(mag)\n",
    "    std_mag = np.std(mag)\n",
    "    filtered_mag = mag[np.abs(mag-mean_mag) <= std_mag]\n",
    "    return np.mean(filtered_mag)\n",
    "\n",
    "def get_mag_1(peaks2, data_tmp):\n",
    "    mag = data_tmp[peaks2[1::2]]\n",
    "    mean_mag = np.mean(mag)\n",
    "    std_mag = np.std(mag)\n",
    "    filtered_mag = mag[np.abs(mag-mean_mag) <= std_mag]\n",
    "    return np.mean(filtered_mag)\n",
    "\n",
    "def get_features(data_tmp, peaks2):\n",
    "    maxm = np.max(data_tmp)\n",
    "    data_tmp_raw = data_tmp\n",
    "    data_tmp = data_tmp / maxm\n",
    "\n",
    "    data_tmp = data_tmp_raw / maxm\n",
    "\n",
    "    diff_12 = peaks2[1::2] - peaks2[0::2]\n",
    "    diff_21 = peaks2[2::2] - peaks2[1:-1:2]\n",
    "    diff_22 = peaks2[2::2] - peaks2[:-2:2]\n",
    "\n",
    "    diff_12 = delete_unique(diff_12)\n",
    "    diff_21 = delete_unique(diff_21)\n",
    "    diff_22 = delete_unique(diff_22)\n",
    "\n",
    "    m_12 = np.mean(diff_12)\n",
    "    m_21 = np.mean(diff_21)\n",
    "    m_22 = np.mean(diff_22)\n",
    "\n",
    "    # mag_0 = get_mag_0(peaks2, data_tmp_raw)\n",
    "    # mag_1 = get_mag_1(peaks2, data_tmp_raw)\n",
    "    mag_1 = get_mag_1(peaks2, data_tmp)\n",
    "    mag_0 = get_mag_0(peaks2, data_tmp)\n",
    "\n",
    "    features = np.array([m_12, m_21, m_22, m_12 / m_21, mag_0, mag_1, mag_0 - mag_1, mag_0 / mag_1])\n",
    "\n",
    "    return features"
   ],
   "metadata": {
    "collapsed": false,
    "pycharm": {
     "name": "#%%\n"
    }
   }
  },
  {
   "cell_type": "code",
   "execution_count": 37,
   "outputs": [
    {
     "name": "stdout",
     "output_type": "stream",
     "text": [
      "(2812,) [ 67. 122. 147. ...  91.  68.  95.]\n"
     ]
    }
   ],
   "source": [
    "if __name__ == '__main__':\n",
    "    signals_train, labels_train, duration, fs = load_scg(0.8, 'train')\n",
    "    signals_test, labels_test, _, _ = load_scg(0.8, 'test')\n",
    "    signals_clean, _, _, _ = load_scg(0, 'train')\n",
    "    S_train, D_train = labels_train[:, -2], labels_train[:, -1]\n",
    "    S_test, D_test = labels_test[:, -2], labels_test[:, -1]\n",
    "\n",
    "    features_train_np = np.load('../../Data/SSA/features_train_0.8_5000.npz.npy')\n",
    "    features_test_np = np.load('../../Data/SSA/features_test_0.8_3000.npz.npy')\n",
    "    idx_train = np.load('../../Data/SSA/idx_train_0.8_5000.npz.npy')\n",
    "    idx_test = np.load('../../Data/SSA/idx_test_0.8_3000.npz.npy')\n",
    "\n",
    "    L = 100\n",
    "    trend2period = 10\n",
    "\n",
    "    signals_train_idxed = signals_train[idx_train]\n",
    "    labels_train_idxed = labels_train[idx_train]\n",
    "\n",
    "    signals_test_idxed = signals_test[idx_test]\n",
    "    labels_test_idxed = labels_test[idx_test]\n",
    "    signals_clean_idxed = signals_train[idx_train]\n",
    "    S_train_idxed = S_train[idx_train]\n",
    "    D_train_idxed = D_train[idx_train]\n",
    "    S_test_idxed = S_test[idx_test]\n",
    "    D_test_idxed = D_test[idx_test]\n",
    "    HR_train_idxed = labels_train[idx_train, 2]\n",
    "    HR_test_idxed = labels_test[idx_test, 2]\n",
    "    print(HR_test_idxed.shape, HR_test_idxed)"
   ],
   "metadata": {
    "collapsed": false,
    "pycharm": {
     "name": "#%%\n"
    }
   }
  },
  {
   "cell_type": "code",
   "execution_count": 54,
   "outputs": [
    {
     "name": "stderr",
     "output_type": "stream",
     "text": [
      "  6%|▋         | 301/4718 [03:58<58:18,  1.26it/s]  \n",
      " 11%|█         | 301/2812 [04:02<33:39,  1.24it/s]\n"
     ]
    }
   ],
   "source": [
    "def segmentation(signal, rpeak, h, d):\n",
    "    begin, end = 0, 0\n",
    "    margin = rpeak[0]\n",
    "    pieces = []\n",
    "\n",
    "    for num in range(1, len(rpeak)):\n",
    "        begin = end\n",
    "        end = rpeak[num] - margin\n",
    "        pieces.append(signal[begin: end])\n",
    "\n",
    "    Nmax = 0\n",
    "    for piece in pieces:\n",
    "        Nmax = max(Nmax, piece.shape[0])\n",
    "\n",
    "    pieces_padded = []\n",
    "    for piece in pieces:\n",
    "        N = Nmax - piece.shape[0]\n",
    "        pieces_padded.append(np.pad(piece, (0, N), 'constant'))\n",
    "    pieces_padded = np.array(pieces_padded)\n",
    "\n",
    "    template = np.median(pieces_padded, 0)\n",
    "\n",
    "    # template_peaks_ = get_peaks(template, distance, duration, fs)\n",
    "    template_peaks_, _ = find_peaks(template, height=np.max(template) * h, distance=len(template) * d)\n",
    "    template_peaks = []\n",
    "\n",
    "    if len(template_peaks_) == 2:\n",
    "        template_peaks = template_peaks_\n",
    "    elif len(template_peaks_) > 2:\n",
    "        mmax = np.argmax(template[template_peaks_])\n",
    "        template_peaks.append(template_peaks_[mmax])\n",
    "        template_peaks_ = np.delete(template_peaks_, mmax)\n",
    "        mmax2 = np.argmax(template[template_peaks_])\n",
    "        template_peaks.append(template_peaks_[mmax2])\n",
    "    elif len(template_peaks_) < 2:\n",
    "        # plt.plot(template)\n",
    "        # plt.scatter(template_peaks_, template[template_peaks_])\n",
    "        return None\n",
    "\n",
    "    dis12 = template_peaks[1] - template_peaks[0]\n",
    "    dis21 = Nmax - dis12\n",
    "    A0 = template[template_peaks[0]]\n",
    "    A1 = template[template_peaks[1]]\n",
    "\n",
    "    # plt.plot(template)\n",
    "    # plt.scatter(template_peaks, template[template_peaks])\n",
    "    # plt.show()\n",
    "    return [dis12/dis21, A0/A1]\n",
    "\n",
    "def features(signals, L, trend2period, distance, HR_idxed, h, d):\n",
    "\n",
    "    emp_features = []\n",
    "    template_features = []\n",
    "    idxs = []\n",
    "    for i in tqdm(range(len(signals))):\n",
    "        signal = signals[i]\n",
    "        ssa_ = SSA(signal, L)\n",
    "        signal_emp = ssa_.reconstruct(slice(trend2period, L))\n",
    "\n",
    "        peaks_emp = get_peaks(signal_emp, distance, duration, fs)\n",
    "        features_emp = get_features(signal_emp, peaks_emp)\n",
    "\n",
    "        emp_S = features_emp[3]\n",
    "        emp_D = features_emp[-1]\n",
    "\n",
    "        large_peaks, _ = find_peaks(signal_emp, height=np.max(signal_emp) * 0.3, distance=int(6000//(HR_idxed[i]+2)))\n",
    "        # plt.plot(signal_emp)\n",
    "        # plt.scatter(large_peaks, signal_emp[large_peaks])\n",
    "        # plt.show()\n",
    "        template_feature = segmentation(signal_emp, large_peaks, h, d)\n",
    "\n",
    "        if template_feature is not None:\n",
    "            idxs.append(i)\n",
    "\n",
    "            emp_features.append([emp_S, emp_D])\n",
    "            template_features.append(template_feature)\n",
    "\n",
    "        if i > 300:\n",
    "            break\n",
    "    return emp_features, template_features, idxs\n",
    "\n",
    "L = 100\n",
    "trend2period = 10\n",
    "\n",
    "# 0.1, 0.2\n",
    "emp_features_train, template_features_train, idxs_train = features(signals_train_idxed, L, trend2period, 10, HR_train_idxed, 0.1, 0.2)\n",
    "\n",
    "# test 0.15, 0.25\n",
    "emp_features_test, template_features_test, idxs_test = features(signals_test_idxed, L, trend2period, 15, HR_test_idxed, 0.15, 0.25)\n"
   ],
   "metadata": {
    "collapsed": false,
    "pycharm": {
     "name": "#%%\n"
    }
   }
  },
  {
   "cell_type": "code",
   "execution_count": 56,
   "outputs": [
    {
     "name": "stderr",
     "output_type": "stream",
     "text": [
      "No artists with labels found to put in legend.  Note that artists whose label start with an underscore are ignored when legend() is called with no argument.\n"
     ]
    },
    {
     "data": {
      "text/plain": "<Figure size 432x288 with 1 Axes>",
      "image/png": "[encoded data removed]"
     },
     "metadata": {
      "needs_background": "light"
     },
     "output_type": "display_data"
    }
   ],
   "source": [
    "np.array(emp_features_train)\n",
    "np.array(template_features_train)\n",
    "np.array(emp_features_test)\n",
    "np.array(template_features_test)\n",
    "\n",
    "\n",
    "# D_train_idxed[idxs_train]\n",
    "\n",
    "# D_test_idxed[idx_test]\n",
    "\n",
    "plt.figure()\n",
    "# plt.scatter(X, y, label='')\n",
    "# plt.scatter(X, y, label='', marker='x')\n",
    "plt.scatter(np.array(template_features_train)[:, 0], S_train_idxed[idxs_train], label='')\n",
    "plt.scatter(np.array(template_features_test)[:, 0], S_test_idxed[idxs_test], label='')\n",
    "\n",
    "# plt.scatter(np.array(emp_features_train)[:, 0], S_train_idxed[idxs_train], marker='x')\n",
    "# plt.scatter(np.array(emp_features_test)[:, 0], S_test_idxed[idxs_test], marker='x')\n",
    "\n",
    "plt.legend()\n",
    "plt.show()"
   ],
   "metadata": {
    "collapsed": false,
    "pycharm": {
     "name": "#%%\n"
    }
   }
  },
  {
   "cell_type": "code",
   "execution_count": 59,
   "outputs": [
    {
     "name": "stderr",
     "output_type": "stream",
     "text": [
      "No artists with labels found to put in legend.  Note that artists whose label start with an underscore are ignored when legend() is called with no argument.\n"
     ]
    },
    {
     "data": {
      "text/plain": "<Figure size 432x288 with 1 Axes>",
      "image/png": "[encoded data removed]"
     },
     "metadata": {
      "needs_background": "light"
     },
     "output_type": "display_data"
    }
   ],
   "source": [
    "plt.figure()\n",
    "# plt.scatter(X, y, label='')\n",
    "# plt.scatter(X, y, label='', marker='x')\n",
    "plt.scatter(np.array(template_features_train)[:, 1], D_train_idxed[idxs_train], label='')\n",
    "plt.scatter(np.array(template_features_test)[:, 1], D_test_idxed[idxs_test], label='')\n",
    "\n",
    "plt.scatter(np.array(emp_features_train)[:, 1], D_train_idxed[idxs_train], marker='x')\n",
    "plt.scatter(np.array(emp_features_test)[:, 1], D_test_idxed[idxs_test], marker='x')\n",
    "\n",
    "plt.legend()\n",
    "plt.show()"
   ],
   "metadata": {
    "collapsed": false,
    "pycharm": {
     "name": "#%%\n"
    }
   }
  },
  {
   "cell_type": "code",
   "execution_count": 64,
   "outputs": [
    {
     "data": {
      "text/plain": "<Figure size 432x288 with 1 Axes>",
      "image/png": "[encoded data removed]"
     },
     "metadata": {
      "needs_background": "light"
     },
     "output_type": "display_data"
    },
    {
     "name": "stderr",
     "output_type": "stream",
     "text": [
      "No artists with labels found to put in legend.  Note that artists whose label start with an underscore are ignored when legend() is called with no argument.\n"
     ]
    },
    {
     "data": {
      "text/plain": "<Figure size 432x288 with 1 Axes>",
      "image/png": "[encoded data removed]"
     },
     "metadata": {
      "needs_background": "light"
     },
     "output_type": "display_data"
    }
   ],
   "source": [
    "emp_features_train = np.load('../../Data/SSA/template/features_train_0.8_5000_NoRR_emp.npy')\n",
    "template_features_train = np.load('../../Data/SSA/template/features_train_0.8_5000_NoRR_template.npy')\n",
    "idxs_train = np.load('../../Data/SSA/template/idx_train_0.8_5000_NoRR_template.npy')\n",
    "\n",
    "# D_train_idxed[idxs_train]\n",
    "\n",
    "# D_test_idxed[idx_test]\n",
    "\n",
    "plt.figure()\n",
    "# plt.scatter(X, y, label='')\n",
    "# plt.scatter(X, y, label='', marker='x')\n",
    "plt.scatter(np.array(template_features_train)[:, 0], S_train_idxed[idxs_train], label='')\n",
    "plt.scatter(np.array(template_features_test)[:, 0], S_test_idxed[idxs_test], label='')\n",
    "\n",
    "plt.show()\n",
    "plt.figure()\n",
    "\n",
    "plt.scatter(np.array(emp_features_train)[:, 0], S_train_idxed[idxs_train], marker='x')\n",
    "plt.scatter(np.array(emp_features_test)[:, 0], S_test_idxed[idxs_test], marker='x')\n",
    "\n",
    "plt.legend()\n",
    "plt.show()"
   ],
   "metadata": {
    "collapsed": false,
    "pycharm": {
     "name": "#%%\n"
    }
   }
  },
  {
   "cell_type": "code",
   "execution_count": 75,
   "outputs": [
    {
     "ename": "SyntaxError",
     "evalue": "invalid syntax (4288959118.py, line 1)",
     "output_type": "error",
     "traceback": [
      "\u001B[1;36m  Input \u001B[1;32mIn [75]\u001B[1;36m\u001B[0m\n\u001B[1;33m    |X, y = features_train_np[:, 3].reshape(-1, 1), S_train[idx_train]\u001B[0m\n\u001B[1;37m    ^\u001B[0m\n\u001B[1;31mSyntaxError\u001B[0m\u001B[1;31m:\u001B[0m invalid syntax\n"
     ]
    }
   ],
   "source": [
    "X, y = features_train_np[:, 3].reshape(-1, 1), S_train[idx_train]\n",
    "X_inacc, y_inacc = features_train_30_np[:, 3].reshape(-1, 1), S_train[idx_30_train_np]\n",
    "\n",
    "plt.figure()\n",
    "idx_start, idx_end = 0, 31\n",
    "plt.scatter(X[31:], y[31:], label='train 31:')\n",
    "plt.scatter(X[:31], y[:31], label='train :31', marker='x')\n",
    "plt.scatter(X_inacc[idx_start: idx_end], y_inacc[idx_start: idx_end], label='inaccurate train :31')\n",
    "plt.legend()\n",
    "plt.show()"
   ],
   "metadata": {
    "collapsed": false,
    "pycharm": {
     "name": "#%%\n"
    }
   }
  },
  {
   "cell_type": "code",
   "execution_count": 6,
   "outputs": [],
   "source": [
    "# X, y = features_train_np[:, 3].reshape(-1, 1), S_train[idx_train]\n",
    "# X_test, y_test = features_test_np[:, 3], S_test[idx_test]\n",
    "# X_acc, y_acc = features_train_30_np[:, 3].reshape(-1, 1), S_train[idx_30_train_np]\n",
    "# X_test_acc, y_test_acc = features_test_30_np[:, 3].reshape(-1, 1), S_test[idx_30_test_np]\n",
    "# plt.figure()\n",
    "# idxex_start, idxex_end = 0, 8\n",
    "# plt.scatter(X[31:], y[31:], label='train 31:')\n",
    "# plt.scatter(X[:31], y[:31], label='train :31', marker='x')\n",
    "# plt.scatter(X_acc[idxex_start: idxex_end], y_acc[idxex_start: idxex_end], label='accurate train :31')\n",
    "# # plt.scatter(X_test[31:], y_test[31:], label='test 31:')\n",
    "# # 24(worse), 16(better)\n",
    "# # idxes = 31\n",
    "# # plt.scatter(X_test[:idxes], y_test[:idxes], label='test :31', marker='x')\n",
    "# # plt.scatter(X_test_acc[:idxes], y_test_acc[:idxes], label='accurate test :31')\n",
    "# plt.legend()\n",
    "# plt.show()"
   ],
   "metadata": {
    "collapsed": false,
    "pycharm": {
     "name": "#%%\n"
    }
   }
  },
  {
   "cell_type": "code",
   "execution_count": 7,
   "outputs": [],
   "source": [
    "# X, y = features_train_np[:, -1].reshape(-1, 1), D_train[idx_train]\n",
    "# X_test, y_test = features_test_np[:, -1], D_test[idx_test]\n",
    "# X_acc, y_acc = features_train_30_np[:, -1].reshape(-1, 1), D_train[idx_30_train_np]\n",
    "# X_test_acc, y_test_acc = features_test_30_np[:, -1].reshape(-1, 1), D_test[idx_30_test_np]\n",
    "# plt.figure()\n",
    "# # plt.scatter(X[31:], y[31:], label='train 31:')\n",
    "# # plt.scatter(X[:31], y[:31], label='train :31', marker='x')\n",
    "# # plt.scatter(X_acc, y_acc, label='accurate train :31')\n",
    "# # plt.scatter(X_test[31:], y_test[31:], label='test 31:')\n",
    "# plt.scatter(X_test[:31], y_test[:31], label='test :31', marker='x')\n",
    "# plt.scatter(X_test_acc, y_test_acc, label='accurate test :31')\n",
    "# plt.legend()\n",
    "# # plt.show()"
   ],
   "metadata": {
    "collapsed": false,
    "pycharm": {
     "name": "#%%\n"
    }
   }
  },
  {
   "cell_type": "code",
   "execution_count": 4,
   "outputs": [],
   "source": [
    "# from sklearn.linear_model import LinearRegression as LR\n",
    "#\n",
    "# reg = LR().fit(features_train_np[:, 3].reshape(-1, 1), S_train[idx_train])\n",
    "# yhat = reg.predict(features_test_np[:, 3].reshape(-1, 1))\n",
    "# np.mean(np.abs(yhat - S_test[idx_test]))\n",
    "#\n",
    "# from Code.Tutorial.utils import plot_2vectors\n",
    "# plot_2vectors( S_test[idx_test], yhat, False, 'S_0.8')"
   ],
   "metadata": {
    "collapsed": false,
    "pycharm": {
     "name": "#%%\n"
    }
   }
  },
  {
   "cell_type": "code",
   "execution_count": 2,
   "outputs": [],
   "source": [
    "# reg = LR().fit(features_train_np[:, -1].reshape(-1, 1), D_train[idx_train])\n",
    "# yhat = reg.predict(features_test_np[:, -1].reshape(-1, 1))\n",
    "# np.mean(np.abs(yhat - D_test[idx_test]))\n",
    "#\n",
    "# from Code.Tutorial.utils import plot_2vectors\n",
    "# plot_2vectors( D_test[idx_test], yhat, False, 'D_0.8')"
   ],
   "metadata": {
    "collapsed": false,
    "pycharm": {
     "name": "#%%\n"
    }
   }
  }
 ],
 "metadata": {
  "kernelspec": {
   "display_name": "Python 3",
   "language": "python",
   "name": "python3"
  },
  "language_info": {
   "codemirror_mode": {
    "name": "ipython",
    "version": 2
   },
   "file_extension": ".py",
   "mimetype": "text/x-python",
   "name": "python",
   "nbconvert_exporter": "python",
   "pygments_lexer": "ipython2",
   "version": "2.7.6"
  }
 },
 "nbformat": 4,
 "nbformat_minor": 0
}