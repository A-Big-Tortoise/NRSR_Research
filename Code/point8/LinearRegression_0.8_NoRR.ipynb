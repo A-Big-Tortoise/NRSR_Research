{
 "cells": [
  {
   "cell_type": "code",
   "execution_count": 1,
   "metadata": {
    "pycharm": {
     "name": "#%%\n"
    }
   },
   "outputs": [],
   "source": [
    "import numpy as np\n",
    "import matplotlib.pyplot as plt"
   ]
  },
  {
   "cell_type": "code",
   "execution_count": 2,
   "metadata": {
    "pycharm": {
     "name": "#%%\n"
    }
   },
   "outputs": [
    {
     "data": {
      "text/plain": [
       "((3879,), (1909,))"
      ]
     },
     "execution_count": 2,
     "metadata": {},
     "output_type": "execute_result"
    }
   ],
   "source": [
    "train_index = np.load('../Data/NewData/NewNewData/train_index.npy').astype(int)\n",
    "test_index = np.load('../Data/NewData/NewNewData/test_index.npy').astype(int)\n",
    "\n",
    "train_feature = np.load('../Data/NewData/NewNewData/train_D21D12.npy')\n",
    "test_feature = np.load('../Data/NewData/NewNewData/test_D21D12.npy')\n",
    "\n",
    "S_train = np.load('../Data/simu_20000_0.1_90_140_train.npy')[train_index, -2]\n",
    "S_test = np.load('../Data/simu_10000_0.1_141_178_test.npy')[test_index, -2]\n",
    "\n",
    "train_index.shape, test_index.shape"
   ]
  },
  {
   "cell_type": "code",
   "execution_count": 3,
   "metadata": {
    "pycharm": {
     "name": "#%%\n"
    }
   },
   "outputs": [
    {
     "data": {
      "text/plain": [
       "(-0.9807435270649468, -0.9716161609777856)"
      ]
     },
     "execution_count": 3,
     "metadata": {},
     "output_type": "execute_result"
    }
   ],
   "source": [
    "np.corrcoef(S_train, train_feature)[0, 1], np.corrcoef(S_test, test_feature)[0, 1]"
   ]
  },
  {
   "cell_type": "code",
   "execution_count": 4,
   "metadata": {
    "pycharm": {
     "name": "#%%\n"
    }
   },
   "outputs": [
    {
     "name": "stdout",
     "output_type": "stream",
     "text": [
      "(3879,)\n"
     ]
    },
    {
     "data": {
      "text/plain": [
       "25.29699911233558"
      ]
     },
     "execution_count": 4,
     "metadata": {},
     "output_type": "execute_result"
    }
   ],
   "source": [
    "from sklearn.ensemble import RandomForestRegressor\n",
    "\n",
    "print(train_feature.shape)\n",
    "regressor = RandomForestRegressor(max_depth = 2, n_estimators = 3000, random_state = 42)\n",
    "\n",
    "regressor.fit(train_feature.reshape(-1, 1), S_train)\n",
    "\n",
    "y_pred = regressor.predict(test_feature.reshape(-1, 1))\n",
    "\n",
    "np.mean(np.abs(y_pred - S_test))"
   ]
  },
  {
   "cell_type": "code",
   "execution_count": 5,
   "metadata": {
    "pycharm": {
     "name": "#%%\n"
    }
   },
   "outputs": [
    {
     "data": {
      "text/plain": [
       "<matplotlib.collections.PathCollection at 0x20b55ddfc40>"
      ]
     },
     "execution_count": 5,
     "metadata": {},
     "output_type": "execute_result"
    },
    {
     "data": {
      "image/png": "[encoded data removed]",
      "text/plain": [
       "<Figure size 432x288 with 1 Axes>"
      ]
     },
     "metadata": {},
     "output_type": "display_data"
    }
   ],
   "source": [
    "plt.scatter(S_train, 220 - 100 *  train_feature)\n",
    "plt.scatter(S_test, 220 - 100 * test_feature)"
   ]
  },
  {
   "cell_type": "code",
   "execution_count": 7,
   "metadata": {
    "pycharm": {
     "name": "#%%\n"
    }
   },
   "outputs": [
    {
     "data": {
      "text/plain": [
       "1.5933740839850326"
      ]
     },
     "execution_count": 7,
     "metadata": {},
     "output_type": "execute_result"
    }
   ],
   "source": [
    "from sklearn.linear_model import LinearRegression as LR  # 线性回归\n",
    "# from sklearn.model_selection import train_test_split     # 划分训练测试集\n",
    "# from sklearn.datasets import fetch_california_housing as fch  # 加利福尼亚房屋价格数据集\n",
    "# import pandas as pd\n",
    "\n",
    "# 3.建模\n",
    "reg = LR().fit(train_feature.reshape(-1, 1), S_train)\n",
    "yhat = reg.predict(test_feature.reshape(-1, 1))\n",
    "np.mean(np.abs(yhat - S_test))\n"
   ]
  }
 ],
 "metadata": {
  "kernelspec": {
   "display_name": "pytorch",
   "language": "python",
   "name": "python3"
  },
  "language_info": {
   "codemirror_mode": {
    "name": "ipython",
    "version": 3
   },
   "file_extension": ".py",
   "mimetype": "text/x-python",
   "name": "python",
   "nbconvert_exporter": "python",
   "pygments_lexer": "ipython3",
   "version": "3.8.13"
  },
  "orig_nbformat": 4
 },
 "nbformat": 4,
 "nbformat_minor": 2
}