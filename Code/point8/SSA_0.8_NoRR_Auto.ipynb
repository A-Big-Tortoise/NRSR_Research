{
 "cells": [
  {
   "cell_type": "code",
   "execution_count": 1,
   "outputs": [],
   "source": [
    "import numpy as np\n",
    "from Code.Tutorial.algo_ssa import SSA\n",
    "from Code.Tutorial.Dataset import load_scg\n",
    "from scipy.signal import find_peaks\n",
    "from scipy.interpolate import interp1d\n",
    "import matplotlib.pylab as plt\n",
    "\n",
    "plt.rcParams['figure.figsize'] = (10,8)\n",
    "plt.rcParams['font.size'] = 14\n",
    "plt.rcParams['image.cmap'] = 'plasma'\n",
    "plt.rcParams['axes.linewidth'] = 2"
   ],
   "metadata": {
    "collapsed": false,
    "pycharm": {
     "name": "#%%\n"
    }
   }
  },
  {
   "cell_type": "code",
   "execution_count": 2,
   "outputs": [],
   "source": [
    "def update_array(a, data_tmp):\n",
    "    i = 0\n",
    "    while i < len(a) - 2:\n",
    "        if data_tmp[a[i]] < data_tmp[a[i + 1]] < data_tmp[a[i + 2]]:\n",
    "            a = np.delete(a, i)\n",
    "        elif data_tmp[a[i]] > data_tmp[a[i + 1]] > data_tmp[a[i + 2]]:\n",
    "            a = np.delete(a, i + 2)\n",
    "        else:\n",
    "            i += 1\n",
    "    return a\n",
    "\n",
    "def get_peaks(data_tmp, distance, duration, sampling_rate):\n",
    "    data_tmp = data_tmp / np.max(data_tmp)\n",
    "\n",
    "    t = np.linspace(0, duration, duration * sampling_rate)\n",
    "    signal = data_tmp\n",
    "\n",
    "    peak_indices, _ = find_peaks(signal)\n",
    "\n",
    "    t_peaks = t[peak_indices]\n",
    "    peak_values = signal[peak_indices]\n",
    "    interpolation_func = interp1d(t_peaks, peak_values, kind='linear', bounds_error=False, fill_value=0)\n",
    "    envelope = interpolation_func(t)\n",
    "\n",
    "    peaks2, _ = find_peaks(envelope, distance=distance)\n",
    "\n",
    "    peaks2 = update_array(peaks2, data_tmp)\n",
    "    if len(peaks2) % 2 != 0:\n",
    "        peaks2 = np.delete(peaks2, len(peaks2) - 1)\n",
    "\n",
    "    return peaks2"
   ],
   "metadata": {
    "collapsed": false,
    "pycharm": {
     "name": "#%%\n"
    }
   }
  },
  {
   "cell_type": "code",
   "execution_count": 4,
   "outputs": [],
   "source": [
    "def delete_unique(a):\n",
    "    mean = np.mean(a)\n",
    "    std = np.std(a)\n",
    "    threshold = 1\n",
    "    filtered_a = a[np.abs(a - mean) <= threshold * std]\n",
    "\n",
    "    return filtered_a\n",
    "\n",
    "def get_mag_0(peaks2, data_tmp):\n",
    "    mag = data_tmp[peaks2[::2]]\n",
    "    mean_mag = np.mean(mag)\n",
    "    std_mag = np.std(mag)\n",
    "    filtered_mag = mag[np.abs(mag-mean_mag) <= std_mag]\n",
    "    return np.mean(filtered_mag)\n",
    "\n",
    "def get_mag_1(peaks2, data_tmp):\n",
    "    mag = data_tmp[peaks2[1::2]]\n",
    "    mean_mag = np.mean(mag)\n",
    "    std_mag = np.std(mag)\n",
    "    filtered_mag = mag[np.abs(mag-mean_mag) <= std_mag]\n",
    "    return np.mean(filtered_mag)\n",
    "\n",
    "def get_features(data_tmp, peaks2):\n",
    "    maxm = np.max(data_tmp)\n",
    "    data_tmp_raw = data_tmp\n",
    "    data_tmp = data_tmp / maxm\n",
    "\n",
    "    data_tmp = data_tmp_raw / maxm\n",
    "\n",
    "    diff_12 = peaks2[1::2] - peaks2[0::2]\n",
    "    diff_21 = peaks2[2::2] - peaks2[1:-1:2]\n",
    "    diff_22 = peaks2[2::2] - peaks2[:-2:2]\n",
    "\n",
    "    diff_12 = delete_unique(diff_12)\n",
    "    diff_21 = delete_unique(diff_21)\n",
    "    diff_22 = delete_unique(diff_22)\n",
    "\n",
    "    m_12 = np.mean(diff_12)\n",
    "    m_21 = np.mean(diff_21)\n",
    "    m_22 = np.mean(diff_22)\n",
    "\n",
    "    # mag_0 = get_mag_0(peaks2, data_tmp_raw)\n",
    "    # mag_1 = get_mag_1(peaks2, data_tmp_raw)\n",
    "    mag_1 = get_mag_1(peaks2, data_tmp)\n",
    "    mag_0 = get_mag_0(peaks2, data_tmp)\n",
    "\n",
    "    features = np.array([m_12, m_21, m_22, m_12 / m_21, mag_0, mag_1, mag_0 - mag_1, mag_0 / mag_1])\n",
    "\n",
    "    return features"
   ],
   "metadata": {
    "collapsed": false,
    "pycharm": {
     "name": "#%%\n"
    }
   }
  },
  {
   "cell_type": "code",
   "execution_count": 15,
   "outputs": [],
   "source": [
    "\n",
    "masks = []\n",
    "areas = []\n",
    "for N in range(7, 14):\n",
    "    mask = np.ones((N, N))\n",
    "    for i in range(N):\n",
    "        for j in range(N):\n",
    "            if i + j <= N//2 - 1 -1 - 1:\n",
    "                mask[i, j] = 0\n",
    "            if N % 2 == 0:\n",
    "                if i + j >= 2 * N  - N // 2 :\n",
    "                    mask[i, j] = 0\n",
    "            else:\n",
    "                if i + j >= 2 * N - 1  - N // 2:\n",
    "                    mask[i, j] = 0\n",
    "    # print(N, N//2 - 1, np.sum(mask) / N **2)\n",
    "\n",
    "    # print(mask)\n",
    "    masks.append(mask[:, ::-1])\n",
    "    areas.append(np.sum(mask))\n",
    "\n",
    "def optimized_separation(matrix):\n",
    "    # N_range = [7, 8, 9, 10, 11, 12, 13, 14, 15, 16]\n",
    "    N_range = [ 7, 8, 9, 10, 11, 12, 13]\n",
    "    averages, covers = [], []\n",
    "    for i in range(len(areas)):\n",
    "        point = N_range[i]\n",
    "        # print(i, point)\n",
    "        average = np.sum(matrix[:point, :point] * masks[i]) / areas[i]\n",
    "        cover = np.sum( ((matrix[:point, :point] * masks[i]) >= 0.08).astype(int) ) / areas[i]\n",
    "        averages.append(average)\n",
    "        covers.append(cover)\n",
    "        # print(point, matrix[:point, :point].shape, average, cover)\n",
    "\n",
    "    covers_diff = np.diff(covers)\n",
    "    average_diff = np.diff(averages)\n",
    "\n",
    "    # print(covers_diff)\n",
    "    # print(np.sum((covers_diff > 0).astype(int)))\n",
    "\n",
    "    # if np.sum((covers_diff > 0).astype(int))==0:\n",
    "    #     flag = True\n",
    "    pos = np.argmax(covers_diff)\n",
    "    # if pos == 0:\n",
    "    #     flag = True\n",
    "    #     pos = np.argmax(covers_diff[1:]) + 1\n",
    "    #\n",
    "    # print(f'pos:{pos}')\n",
    "    optimized_point = N_range[0] + 1 + pos\n",
    "    # print(f'Before:{optimized_point}')\n",
    "    # # if matrix[optimized_point, optimized_point - 1] > 0.7:\n",
    "    # #     optimized_point += 1\n",
    "    # if average_diff[pos] > 0:\n",
    "    #     optimized_point = N_range[0]\n",
    "    # print(f'After:{optimized_point}')\n",
    "    return optimized_point\n",
    "\n",
    "\n",
    "def features_indexes(signals, L, distance, show ):\n",
    "\n",
    "    sampling_rate = fs\n",
    "    idx = []\n",
    "    features = []\n",
    "\n",
    "    for i in range(len(signals)):\n",
    "        signal = signals[i]\n",
    "        if max(signal) > 1:\n",
    "            continue\n",
    "\n",
    "        ssa_ = SSA(signal, L)\n",
    "        optimized_point = optimized_separation(ssa_.Wcorr)\n",
    "\n",
    "        ssa_signal = ssa_.reconstruct(slice(optimized_point, L))\n",
    "        peaks = get_peaks(ssa_signal, distance, duration, sampling_rate)\n",
    "\n",
    "        if len(peaks) < 16:\n",
    "            continue\n",
    "\n",
    "        idx.append(i)\n",
    "\n",
    "        if show:\n",
    "            ssa_.plot_wcorr()\n",
    "            # plt.savefig('./wcorr.jpg', dpi=300)\n",
    "\n",
    "            plt.subplots(2, 1, figsize=(20, 8))\n",
    "            plt.subplot(2, 1, 1)\n",
    "            ssa_.orig_TS.plot(alpha=0.3, label='Noisy Signal')\n",
    "            ssa_.reconstruct(slice(0, optimized_point)).plot(label='Noise Trend')\n",
    "            plt.title('Noisy Signal and its Trend')\n",
    "            plt.legend()\n",
    "            plt.subplot(2, 1, 2)\n",
    "            ssa_.orig_TS.plot(alpha=0.3, label='Noisy Signal')\n",
    "            ssa_.reconstruct(slice(optimized_point, L)).plot(label='Reconstructed Signal')\n",
    "            plt.title('Noisy Signal and Reconstructed Signal')\n",
    "            plt.legend()\n",
    "            # plt.savefig('./SSA_Effect.jpg', dpi=300)\n",
    "            # plt.show()\n",
    "\n",
    "        features.append(get_features(ssa_signal, peaks))\n",
    "        break\n",
    "    return features, idx\n"
   ],
   "metadata": {
    "collapsed": false,
    "pycharm": {
     "name": "#%%\n"
    }
   }
  },
  {
   "cell_type": "code",
   "execution_count": 18,
   "outputs": [],
   "source": [
    "if __name__ == '__main__':\n",
    "    signals_train, labels_train, duration, fs = load_scg(0.8, 'train')\n",
    "    signals_test, labels_test, _, _ = load_scg(0.8, 'test')\n",
    "    S_train, D_train = labels_train[:, -2], labels_train[:, -1]\n",
    "    S_test, D_test = labels_test[:, -2], labels_test[:, -1]\n",
    "\n",
    "    L = 100\n",
    "    show = False\n",
    "\n",
    "    features_train, idx_train = features_indexes(signals_train, L, 15, show)\n",
    "    features_test, idx_test = features_indexes(signals_test, L, 10, show)"
   ],
   "metadata": {
    "collapsed": false,
    "pycharm": {
     "name": "#%%\n"
    }
   }
  },
  {
   "cell_type": "code",
   "execution_count": 6,
   "outputs": [],
   "source": [
    "features_train_np = np.array(features_train)\n",
    "features_test_np = np.array(features_test)\n",
    "idx_train_np = np.array(idx_train)\n",
    "idx_test_np = np.array(idx_test)\n",
    "\n",
    "np.save('./features_train_0.8_5000_NoRR_auto', features_train_np)\n",
    "np.save('./features_test_0.8_3000_NoRR_auto', features_test_np)\n",
    "np.save('./idx_train_0.8_5000_NoRR_auto', idx_train_np)\n",
    "np.save('./idx_test_0.8_3000_NoRR_auto', idx_test_np)\n",
    "\n",
    "# features_train_np = np.load('./features_train_0.8_5000_NoRR_auto')\n",
    "# features_test_np = np.load('./features_test_0.8_3000_NoRR_auto')\n",
    "# idx_train = np.load('./idx_train_0.8_5000_NoRR_auto')\n",
    "# idx_test = np.load('./idx_test_0.8_3000_NoRR_auto')\n"
   ],
   "metadata": {
    "collapsed": false,
    "pycharm": {
     "name": "#%%\n"
    }
   }
  },
  {
   "cell_type": "code",
   "execution_count": 10,
   "outputs": [
    {
     "name": "stdout",
     "output_type": "stream",
     "text": [
      "Saved plot to S_0.8.jpg\n"
     ]
    },
    {
     "data": {
      "text/plain": "<Figure size 432x288 with 1 Axes>",
      "image/png": "[encoded data removed]"
     },
     "metadata": {
      "needs_background": "light"
     },
     "output_type": "display_data"
    }
   ],
   "source": [
    "# from sklearn.linear_model import LinearRegression as LR\n",
    "#\n",
    "# reg = LR().fit(features_train_np[:, 3].reshape(-1, 1), S_train[idx_train])\n",
    "# yhat = reg.predict(features_test_np[:, 3].reshape(-1, 1))\n",
    "# np.mean(np.abs(yhat - S_test[idx_test]))\n",
    "#\n",
    "# from Tutorial.utils import plot_2vectors\n",
    "# plot_2vectors( S_test[idx_test], yhat, True, 'S_0.8')"
   ],
   "metadata": {
    "collapsed": false,
    "pycharm": {
     "name": "#%%\n"
    }
   }
  },
  {
   "cell_type": "code",
   "execution_count": 12,
   "outputs": [
    {
     "name": "stdout",
     "output_type": "stream",
     "text": [
      "Saved plot to D_0.8.jpg\n"
     ]
    },
    {
     "data": {
      "text/plain": "<Figure size 432x288 with 1 Axes>",
      "image/png": "[encoded data removed]"
     },
     "metadata": {
      "needs_background": "light"
     },
     "output_type": "display_data"
    }
   ],
   "source": [
    "# reg = LR().fit(features_train_np[:, -1].reshape(-1, 1), D_train[idx_train])\n",
    "# yhat = reg.predict(features_test_np[:, -1].reshape(-1, 1))\n",
    "# np.mean(np.abs(yhat - D_test[idx_test]))\n",
    "#\n",
    "# from Tutorial.utils import plot_2vectors\n",
    "# plot_2vectors( D_test[idx_test], yhat, True, 'D_0.8')"
   ],
   "metadata": {
    "collapsed": false,
    "pycharm": {
     "name": "#%%\n"
    }
   }
  },
  {
   "cell_type": "code",
   "execution_count": null,
   "outputs": [],
   "source": [],
   "metadata": {
    "collapsed": false,
    "pycharm": {
     "name": "#%%\n"
    }
   }
  }
 ],
 "metadata": {
  "kernelspec": {
   "display_name": "Python 3",
   "language": "python",
   "name": "python3"
  },
  "language_info": {
   "codemirror_mode": {
    "name": "ipython",
    "version": 2
   },
   "file_extension": ".py",
   "mimetype": "text/x-python",
   "name": "python",
   "nbconvert_exporter": "python",
   "pygments_lexer": "ipython2",
   "version": "2.7.6"
  }
 },
 "nbformat": 4,
 "nbformat_minor": 0
}