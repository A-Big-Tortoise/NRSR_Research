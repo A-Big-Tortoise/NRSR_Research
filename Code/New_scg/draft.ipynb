{
 "cells": [
  {
   "cell_type": "code",
   "execution_count": 1,
   "outputs": [],
   "source": [
    "import numpy as np\n",
    "import matplotlib.pyplot as plt"
   ],
   "metadata": {
    "collapsed": false,
    "pycharm": {
     "name": "#%%\n"
    }
   }
  },
  {
   "cell_type": "code",
   "execution_count": 117,
   "outputs": [],
   "source": [
    "data_train = np.load('D:\\PHD\\Research\\Data\\Classification_S\\sim_5000_0.1_90_180_train_template.npy', allow_pickle=True)\n",
    "data_test = np.load('D:\\PHD\\Research\\Data\\Classification_S\\sim_3000_0.1_90_180_test_template.npyy.npy', allow_pickle=True)\n",
    "signals_train, S_train = [], []\n",
    "signals_test, S_test = [], []\n",
    "\n",
    "def check_S(S):\n",
    "    label = -1\n",
    "    if 90 <= S < 105:\n",
    "        label = 0\n",
    "    elif 105 <= S < 135:\n",
    "        label = 1\n",
    "    elif 135 <= S < 165:\n",
    "        label = 2\n",
    "    elif S >= 165:\n",
    "        label = 3\n",
    "    return label\n",
    "\n",
    "for data in data_train:\n",
    "    data_np = np.array(data)\n",
    "    # print(data_np.shape)\n",
    "    signals_train.append(data[:-6])\n",
    "    S_train.append(check_S(data[-2]))\n",
    "\n",
    "for data in data_test:\n",
    "    data_np = np.array(data)\n",
    "    signals_test.append(data[:-6])\n",
    "    S_test.append(check_S(data[-2]))\n"
   ],
   "metadata": {
    "collapsed": false,
    "pycharm": {
     "name": "#%%\n"
    }
   }
  },
  {
   "cell_type": "code",
   "execution_count": null,
   "outputs": [],
   "source": [
    "from ./Tutorial import"
   ],
   "metadata": {
    "collapsed": false,
    "pycharm": {
     "name": "#%%\n"
    }
   }
  },
  {
   "cell_type": "code",
   "execution_count": null,
   "outputs": [],
   "source": [
    "# kNN\n",
    "# Support Vector Machine (SVM)\n",
    "# Decision trees\n",
    "# Random forest\n",
    "# Time-series specific Support Vector Classifier"
   ],
   "metadata": {
    "collapsed": false,
    "pycharm": {
     "name": "#%%\n"
    }
   }
  },
  {
   "cell_type": "code",
   "execution_count": 104,
   "outputs": [
    {
     "name": "stdout",
     "output_type": "stream",
     "text": [
      "(107,)\n",
      "(74,)\n"
     ]
    },
    {
     "data": {
      "text/plain": "<Figure size 432x288 with 1 Axes>",
      "image/png": "[encoded data removed]"
     },
     "metadata": {
      "needs_background": "light"
     },
     "output_type": "display_data"
    }
   ],
   "source": [
    "sx = np.load('./test.npy', allow_pickle=True)\n",
    "x.reshape(2, -1)\n",
    "for x_ in x:\n",
    "    print(np.array(x_).shape)\n",
    "    plt.plot(np.array(x_)[:-6])\n",
    "# print(x[0].shape)\n",
    "# plt.plot(x[0])"
   ],
   "metadata": {
    "collapsed": false,
    "pycharm": {
     "name": "#%%\n"
    }
   }
  },
  {
   "cell_type": "code",
   "execution_count": 9,
   "outputs": [
    {
     "data": {
      "text/plain": "array([ 2.66700579e-02,  1.88176800e-01,  5.27201189e-01,  6.88459039e-01,\n        2.81172344e-01, -2.49846424e-01, -1.95946274e-01,  1.27369340e-01,\n        9.30573646e-02, -7.13941472e-02, -2.94575368e-02,  3.32126741e-02,\n        3.60655357e-03, -1.07331755e-02,  1.39535175e-03,  1.99240530e-03,\n       -6.85856695e-04, -1.16466855e-04,  9.35886703e-05, -1.32642029e-05])"
     },
     "execution_count": 9,
     "metadata": {},
     "output_type": "execute_result"
    }
   ],
   "source": [
    "import scipy"
   ],
   "metadata": {
    "collapsed": false,
    "pycharm": {
     "name": "#%%\n"
    }
   }
  },
  {
   "cell_type": "code",
   "execution_count": null,
   "outputs": [],
   "source": [
    "# Harr 1, Daubechies, Symlet, Biorthogonal, Meyer 1 and Coiflets"
   ],
   "metadata": {
    "collapsed": false,
    "pycharm": {
     "name": "#%%\n"
    }
   }
  },
  {
   "cell_type": "code",
   "execution_count": 59,
   "outputs": [
    {
     "name": "stdout",
     "output_type": "stream",
     "text": [
      "['Haar', 'Daubechies', 'Symlets', 'Coiflets', 'Biorthogonal', 'Reverse biorthogonal', 'Discrete Meyer (FIR Approximation)', 'Gaussian', 'Mexican hat wavelet', 'Morlet wavelet', 'Complex Gaussian wavelets', 'Shannon wavelets', 'Frequency B-Spline wavelets', 'Complex Morlet wavelets']\n",
      "['haar', 'db', 'sym', 'coif', 'bior', 'rbio', 'dmey', 'gaus', 'mexh', 'morl', 'cgau', 'shan', 'fbsp', 'cmor']\n",
      "['haar']\n",
      "['db1', 'db2', 'db3', 'db4', 'db5', 'db6', 'db7', 'db8', 'db9', 'db10', 'db11', 'db12', 'db13', 'db14', 'db15', 'db16', 'db17', 'db18', 'db19', 'db20', 'db21', 'db22', 'db23', 'db24', 'db25', 'db26', 'db27', 'db28', 'db29', 'db30', 'db31', 'db32', 'db33', 'db34', 'db35', 'db36', 'db37', 'db38']\n",
      "['sym2', 'sym3', 'sym4', 'sym5', 'sym6', 'sym7', 'sym8', 'sym9', 'sym10', 'sym11', 'sym12', 'sym13', 'sym14', 'sym15', 'sym16', 'sym17', 'sym18', 'sym19', 'sym20']\n",
      "['coif1', 'coif2', 'coif3', 'coif4', 'coif5', 'coif6', 'coif7', 'coif8', 'coif9', 'coif10', 'coif11', 'coif12', 'coif13', 'coif14', 'coif15', 'coif16', 'coif17']\n",
      "['bior1.1', 'bior1.3', 'bior1.5', 'bior2.2', 'bior2.4', 'bior2.6', 'bior2.8', 'bior3.1', 'bior3.3', 'bior3.5', 'bior3.7', 'bior3.9', 'bior4.4', 'bior5.5', 'bior6.8']\n",
      "['rbio1.1', 'rbio1.3', 'rbio1.5', 'rbio2.2', 'rbio2.4', 'rbio2.6', 'rbio2.8', 'rbio3.1', 'rbio3.3', 'rbio3.5', 'rbio3.7', 'rbio3.9', 'rbio4.4', 'rbio5.5', 'rbio6.8']\n",
      "['dmey']\n",
      "['gaus1', 'gaus2', 'gaus3', 'gaus4', 'gaus5', 'gaus6', 'gaus7', 'gaus8']\n",
      "['mexh']\n",
      "['morl']\n",
      "['cgau1', 'cgau2', 'cgau3', 'cgau4', 'cgau5', 'cgau6', 'cgau7', 'cgau8']\n",
      "['shan']\n",
      "['fbsp']\n",
      "['cmor']\n"
     ]
    }
   ],
   "source": [
    "mother_waves = pywt.families()\n",
    "print(pywt.families(short=False))\n",
    "print(pywt.families(short=True))\n",
    "for mother_wave in mother_waves:\n",
    "    print(pywt.wavelist(mother_wave))"
   ],
   "metadata": {
    "collapsed": false,
    "pycharm": {
     "name": "#%%\n"
    }
   }
  },
  {
   "cell_type": "code",
   "execution_count": 47,
   "outputs": [
    {
     "data": {
      "text/plain": "<matplotlib.legend.Legend at 0x1904edfdfa0>"
     },
     "execution_count": 47,
     "metadata": {},
     "output_type": "execute_result"
    },
    {
     "data": {
      "text/plain": "<Figure size 432x288 with 1 Axes>",
      "image/png": "[encoded data removed]"
     },
     "metadata": {
      "needs_background": "light"
     },
     "output_type": "display_data"
    }
   ],
   "source": [
    "import pywt\n",
    "\n",
    "idx = 9\n",
    "wavelet_db = scipy.signal.daub(idx)\n",
    "\n",
    "# wavelet = pywt.DiscreteContinuousWavelet('db'+str(idx))\n",
    "wavelet = pywt.DiscreteContinuousWavelet('coif'+str(idx))\n",
    "plt.plot(wavelet.rec_lo, label='pywt')\n",
    "# plt.plot(wavelet.dec_lo, label='low')\n",
    "plt.plot(wavelet_db, label='scipy')\n",
    "plt.legend()\n",
    "# wavelet.filter_bank"
   ],
   "metadata": {
    "collapsed": false,
    "pycharm": {
     "name": "#%%\n"
    }
   }
  },
  {
   "cell_type": "code",
   "execution_count": 77,
   "outputs": [
    {
     "data": {
      "text/plain": "<matplotlib.legend.Legend at 0x1905395ae80>"
     },
     "execution_count": 77,
     "metadata": {},
     "output_type": "execute_result"
    },
    {
     "data": {
      "text/plain": "<Figure size 432x288 with 1 Axes>",
      "image/png": "[encoded data removed]"
     },
     "metadata": {
      "needs_background": "light"
     },
     "output_type": "display_data"
    }
   ],
   "source": [
    "import pywt\n",
    "\n",
    "\n",
    "# wavelet = pywt.DiscreteContinuousWavelet('db'+str(idx))\n",
    "wavelet = pywt.DiscreteContinuousWavelet('bior6.8')\n",
    "wavelet.rec_hi\n",
    "plt.plot(wavelet.rec_hi, label='pywt')\n",
    "plt.legend()"
   ],
   "metadata": {
    "collapsed": false,
    "pycharm": {
     "name": "#%%\n"
    }
   }
  },
  {
   "cell_type": "code",
   "execution_count": 64,
   "outputs": [
    {
     "name": "stdout",
     "output_type": "stream",
     "text": [
      "Scaling coefficients (phi): [0.7071067811865476, 0.7071067811865476]\n",
      "Wavelet coefficients (psi): [-0.7071067811865476, 0.7071067811865476]\n"
     ]
    }
   ],
   "source": [
    "import pywt\n",
    "\n",
    "# Generate Haar wavelet\n",
    "wavelet = pywt.Wavelet('haar')\n",
    "\n",
    "# Get the scaling (phi) and wavelet (psi) coefficients\n",
    "scaling_coefficients = wavelet.filter_bank[0]\n",
    "wavelet_coefficients = wavelet.filter_bank[1]\n",
    "\n",
    "print(\"Scaling coefficients (phi):\", scaling_coefficients)\n",
    "print(\"Wavelet coefficients (psi):\", wavelet_coefficients)"
   ],
   "metadata": {
    "collapsed": false,
    "pycharm": {
     "name": "#%%\n"
    }
   }
  }
 ],
 "metadata": {
  "kernelspec": {
   "display_name": "Python 3",
   "language": "python",
   "name": "python3"
  },
  "language_info": {
   "codemirror_mode": {
    "name": "ipython",
    "version": 2
   },
   "file_extension": ".py",
   "mimetype": "text/x-python",
   "name": "python",
   "nbconvert_exporter": "python",
   "pygments_lexer": "ipython2",
   "version": "2.7.6"
  }
 },
 "nbformat": 4,
 "nbformat_minor": 0
}