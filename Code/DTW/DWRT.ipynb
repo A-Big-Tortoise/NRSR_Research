{
 "cells": [
  {
   "cell_type": "code",
   "execution_count": 1,
   "outputs": [],
   "source": [
    "import numpy as np\n",
    "import matplotlib.pyplot as plt\n",
    "from scipy.signal import find_peaks\n",
    "from Code.Tutorial.Dataset  import load_scg\n",
    "from DTW import dtwPlotTwoWay, dtw_easy\n",
    "import random\n",
    "from tqdm import tqdm"
   ],
   "metadata": {
    "collapsed": false,
    "pycharm": {
     "name": "#%%\n"
    }
   }
  },
  {
   "cell_type": "code",
   "execution_count": 2,
   "outputs": [],
   "source": [
    "def std_data(noise_level):\n",
    "    signals_train_l, labels_train_l, duration, fs = load_scg(noise_level, 'train')\n",
    "    signals_test_l, labels_test_l, _, _ = load_scg(noise_level, 'test')\n",
    "\n",
    "    signals_l_train_ls = []\n",
    "    labels_l_train_ls = []\n",
    "    for cnt, signal in enumerate(signals_train_l):\n",
    "        if max(signal) > 1:\n",
    "            continue\n",
    "        signals_l_train_ls.append(signal)\n",
    "        labels_l_train_ls.append(labels_train_l[cnt])\n",
    "\n",
    "    signals_l_test_ls = []\n",
    "    labels_l_test_ls = []\n",
    "    for cnt, signal in enumerate(signals_test_l):\n",
    "        if max(signal) > 1:\n",
    "            continue\n",
    "        signals_l_test_ls.append(signal)\n",
    "        labels_l_test_ls.append(labels_test_l[cnt])\n",
    "\n",
    "\n",
    "    signals_l_train = np.array(signals_l_train_ls)\n",
    "    signals_l_test = np.array(signals_l_test_ls)\n",
    "    labels_l_train = np.array(labels_l_train_ls)\n",
    "    labels_l_test = np.array(labels_l_test_ls)\n",
    "    print(signals_l_train.shape, labels_l_test.shape)\n",
    "\n",
    "    return labels_l_train, labels_l_test, signals_l_train, signals_l_test"
   ],
   "metadata": {
    "collapsed": false,
    "pycharm": {
     "name": "#%%\n"
    }
   }
  },
  {
   "cell_type": "code",
   "execution_count": 3,
   "outputs": [],
   "source": [
    "def segmentation(signal, rpeak):\n",
    "    begin, end = 0, 0\n",
    "    margin = rpeak[0]\n",
    "    pieces = []\n",
    "\n",
    "    # plt.figure()\n",
    "    for num in range(1, len(rpeak)):\n",
    "        begin = end\n",
    "        end = rpeak[num] - margin\n",
    "        pieces.append(signal[begin: end])\n",
    "        # plt.plot(signal[begin: end])\n",
    "    # plt.show()\n",
    "    return pieces"
   ],
   "metadata": {
    "collapsed": false,
    "pycharm": {
     "name": "#%%\n"
    }
   }
  },
  {
   "cell_type": "code",
   "execution_count": 4,
   "outputs": [],
   "source": [
    "def get_features(template, h, d):\n",
    "    template_peaks_, _ = find_peaks(template, height=np.max(template) * h, distance=len(template) * d)\n",
    "    template_peaks = []\n",
    "\n",
    "    if len(template_peaks_) == 2:\n",
    "        template_peaks = template_peaks_\n",
    "    elif len(template_peaks_) > 2:\n",
    "        mmax = np.argmax(template[template_peaks_])\n",
    "        template_peaks.append(template_peaks_[mmax])\n",
    "        template_peaks_ = np.delete(template_peaks_, mmax)\n",
    "        mmax2 = np.argmax(template[template_peaks_])\n",
    "        template_peaks.append(template_peaks_[mmax2])\n",
    "    elif len(template_peaks_) < 2:\n",
    "        # plt.figure()\n",
    "        # plt.plot(template)\n",
    "        # plt.scatter(template_peaks_, template[template_peaks_])\n",
    "        # plt.show()\n",
    "        return None\n",
    "\n",
    "    Nmax = len(template)\n",
    "\n",
    "    dis12 = template_peaks[1] - template_peaks[0]\n",
    "    dis21 = Nmax - dis12\n",
    "    A0 = template[template_peaks[0]]\n",
    "    A1 = template[template_peaks[1]]\n",
    "\n",
    "    show = False\n",
    "\n",
    "    if show:\n",
    "        plt.figure()\n",
    "        plt.plot(template)\n",
    "        plt.scatter(template_peaks, template[template_peaks])\n",
    "        # plt.title(f'dis12/dis21:{dis12/dis21}, A0/A1:{A0/A1}')\n",
    "        plt.show()\n",
    "\n",
    "\n",
    "    return [dis12/dis21, A0/A1]"
   ],
   "metadata": {
    "collapsed": false,
    "pycharm": {
     "name": "#%%\n"
    }
   }
  },
  {
   "cell_type": "code",
   "execution_count": 6,
   "outputs": [],
   "source": [
    "def make_template(piece0, piece1, path):\n",
    "    path0 = path[0]\n",
    "    path1 = path[1]\n",
    "\n",
    "\n",
    "    for idx1, idx2 in zip(path0, path1):\n",
    "        piece0[idx1] = 0.5 * (piece0[idx1] + piece1[idx2])\n",
    "\n",
    "    return piece0"
   ],
   "metadata": {
    "collapsed": false,
    "pycharm": {
     "name": "#%%\n"
    }
   }
  },
  {
   "cell_type": "code",
   "execution_count": 11,
   "outputs": [],
   "source": [
    "def performDWRT(pieces):\n",
    "    # one by one\n",
    "    # 1. use loops to calculate\n",
    "    # 2. get the template\n",
    "\n",
    "    medoid = pieces[0]\n",
    "\n",
    "    pieces_num = len(pieces)\n",
    "    dist = lambda x, y: np.abs(x - y)\n",
    "\n",
    "    for cnt in range(1, pieces_num):\n",
    "        _, _, _, path = dtw_easy(medoid, pieces[cnt], dist)\n",
    "        # dtwPlotTwoWay(path[0], path[1], medoid, pieces[cnt], 0, 4e-6, 'gray')\n",
    "        # plt.figure(figsize=(12, 3))\n",
    "        # plt.plot(medoid, label='Medoid')\n",
    "        # plt.plot(pieces[cnt], label='Segmentation')\n",
    "\n",
    "        medoid = make_template(medoid, pieces[cnt], path)\n",
    "\n",
    "        # plt.plot(medoid, label='New Medoid')\n",
    "        # plt.legend()\n",
    "        # plt.show()\n",
    "    return medoid"
   ],
   "metadata": {
    "collapsed": false,
    "pycharm": {
     "name": "#%%\n"
    }
   }
  },
  {
   "cell_type": "code",
   "execution_count": 14,
   "outputs": [],
   "source": [
    "def extract_dtw(signals, labels, alpha,  h, d, echo):\n",
    "    NLAAF1_features = []\n",
    "    idxs_1 = []\n",
    "\n",
    "    for cnt, signal in tqdm(enumerate(signals)):\n",
    "        hr = labels[cnt, 2]\n",
    "        large_peaks, _ = find_peaks(signal, height=np.max(signal)*0.3, distance=5000//(hr*alpha))\n",
    "        pieces = segmentation(signal, large_peaks)\n",
    "\n",
    "        template1 = performDWRT(pieces)\n",
    "\n",
    "        features1 = get_features(template1, h, d)\n",
    "        if features1 is not None:\n",
    "            idxs_1.append(cnt)\n",
    "\n",
    "        NLAAF1_features.append(features1)\n",
    "        if cnt > echo:\n",
    "                break\n",
    "    return np.array(NLAAF1_features), np.array(idxs_1)\n"
   ],
   "metadata": {
    "collapsed": false,
    "pycharm": {
     "name": "#%%\n"
    }
   }
  },
  {
   "cell_type": "code",
   "execution_count": 15,
   "outputs": [
    {
     "name": "stdout",
     "output_type": "stream",
     "text": [
      "(4718, 1000) (2822, 6)\n",
      "(4718, 1000) (2822, 6)\n"
     ]
    },
    {
     "name": "stderr",
     "output_type": "stream",
     "text": [
      "501it [02:20,  3.56it/s]\n",
      "301it [01:21,  3.70it/s]\n"
     ]
    }
   ],
   "source": [
    "if __name__=='__main__':\n",
    "    labels_0_train, labels_0_test, signals_0_train, signals_0_test = std_data(0)\n",
    "    labels_1_train, labels_1_test, signals_1_train, signals_1_test = std_data(0.1)\n",
    "\n",
    "    echo1, echo2 = 500, 300\n",
    "    NLAAF1_features_train, idxs_1_train= extract_dtw(signals_0_train,labels_0_train,1,0.1,0.15,echo1)\n",
    "    NLAAF1_features_test, idxs_1_test= extract_dtw(signals_0_test, labels_0_test,1,0.12,0.12,echo2)"
   ],
   "metadata": {
    "collapsed": false,
    "pycharm": {
     "name": "#%%\n"
    }
   }
  },
  {
   "cell_type": "code",
   "execution_count": 18,
   "outputs": [
    {
     "data": {
      "text/plain": "<Figure size 432x288 with 1 Axes>",
      "image/png": "[encoded data removed]"
     },
     "metadata": {
      "needs_background": "light"
     },
     "output_type": "display_data"
    },
    {
     "name": "stdout",
     "output_type": "stream",
     "text": [
      "2.780586916275508\n"
     ]
    },
    {
     "data": {
      "text/plain": "<Figure size 432x288 with 1 Axes>",
      "image/png": "[encoded data removed]"
     },
     "metadata": {
      "needs_background": "light"
     },
     "output_type": "display_data"
    },
    {
     "data": {
      "text/plain": "<Figure size 432x288 with 1 Axes>",
      "image/png": "[encoded data removed]"
     },
     "metadata": {
      "needs_background": "light"
     },
     "output_type": "display_data"
    },
    {
     "name": "stdout",
     "output_type": "stream",
     "text": [
      "4.501226912773568\n"
     ]
    },
    {
     "data": {
      "text/plain": "<Figure size 432x288 with 1 Axes>",
      "image/png": "[encoded data removed]"
     },
     "metadata": {
      "needs_background": "light"
     },
     "output_type": "display_data"
    }
   ],
   "source": [
    "from sklearn.linear_model import LinearRegression as LR\n",
    "\n",
    "def plot_plot(features_train, features_test, labels_train, labels_test, title):\n",
    "    plt.figure()\n",
    "    plt.scatter(np.array(features_train), labels_train)\n",
    "    plt.scatter(np.array(features_test), labels_test)\n",
    "    plt.show()\n",
    "\n",
    "    reg = LR().fit(np.array(features_train).reshape(-1, 1), labels_train)\n",
    "    yhat = reg.predict(np.array(features_test).reshape(-1, 1))\n",
    "    print(np.mean(np.abs(yhat - labels_test)))\n",
    "\n",
    "    plot_2vectors(labels_test, yhat, False, title)\n",
    "\n",
    "plot_plot(NLAAF1_features_train[:, 0],NLAAF1_features_test[:, 0],labels_0_train[idxs_1_train, 4],labels_0_test[idxs_1_test, 4],'S_NLAAF1')\n",
    "plot_plot(NLAAF1_features_train[:, 1],NLAAF1_features_test[:, 1],labels_0_train[idxs_1_train, 5],labels_0_test[idxs_1_test, 5],'D_NLAAF1')\n"
   ],
   "metadata": {
    "collapsed": false,
    "pycharm": {
     "name": "#%%\n"
    }
   }
  },
  {
   "cell_type": "code",
   "execution_count": 17,
   "outputs": [],
   "source": [
    "def calc_mae(gt, pred):\n",
    "    return np.mean(abs(np.array(gt) - np.array(pred)))\n",
    "\n",
    "def plot_2vectors(label, pred, save=False, name=None, path=None):\n",
    "    \"\"\"lsit1: label, list2: prediction\"\"\"\n",
    "\n",
    "    list1 = label\n",
    "    list2 = np.array(pred)\n",
    "    if list2.ndim == 2:\n",
    "        mae = calc_mae(list1, list2[:, 0])\n",
    "    else:\n",
    "        mae = calc_mae(list1, list2)\n",
    "\n",
    "    sorted_id = sorted(range(len(list1)), key=lambda k: list1[k])\n",
    "\n",
    "    plt.clf()\n",
    "    plt.text(0, np.min(list2), f'MAE={mae}')\n",
    "\n",
    "    plt.scatter(np.arange(list2.shape[0]), list2[sorted_id], s=1, alpha=0.5, label=f'{name} prediction', color='blue')\n",
    "    plt.scatter(np.arange(list1.shape[0]), list1[sorted_id], s=1, alpha=0.5, label=f'{name} label', color='red')\n",
    "    plt.legend(loc='lower right')\n",
    "\n",
    "    if save:\n",
    "        if path is None:\n",
    "            raise ValueError(\"If save is True, 'path' argument must be provided.\")\n",
    "        plt.savefig(f'{path}.jpg', dpi=300)\n",
    "        print(f'Saved plot to {path}.jpg')\n",
    "\n",
    "    plt.show()"
   ],
   "metadata": {
    "collapsed": false,
    "pycharm": {
     "name": "#%%\n"
    }
   }
  },
  {
   "cell_type": "code",
   "execution_count": null,
   "outputs": [],
   "source": [],
   "metadata": {
    "collapsed": false,
    "pycharm": {
     "name": "#%%\n"
    }
   }
  }
 ],
 "metadata": {
  "kernelspec": {
   "display_name": "Python 3",
   "language": "python",
   "name": "python3"
  },
  "language_info": {
   "codemirror_mode": {
    "name": "ipython",
    "version": 2
   },
   "file_extension": ".py",
   "mimetype": "text/x-python",
   "name": "python",
   "nbconvert_exporter": "python",
   "pygments_lexer": "ipython2",
   "version": "2.7.6"
  }
 },
 "nbformat": 4,
 "nbformat_minor": 0
}