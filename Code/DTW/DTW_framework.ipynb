{
 "cells": [
  {
   "cell_type": "code",
   "execution_count": 1,
   "outputs": [],
   "source": [
    "import numpy as np\n",
    "import matplotlib.pyplot as plt\n",
    "from scipy.signal import find_peaks\n",
    "from Code.Tutorial.Dataset  import load_scg\n",
    "from dba.DBA import performDBA"
   ],
   "metadata": {
    "collapsed": false,
    "pycharm": {
     "name": "#%%\n"
    }
   }
  },
  {
   "cell_type": "code",
   "execution_count": 2,
   "outputs": [],
   "source": [
    "def std_data(noise_level):\n",
    "    signals_train_l, labels_train_l, duration, fs = load_scg(noise_level, 'train')\n",
    "    signals_test_l, labels_test_l, _, _ = load_scg(noise_level, 'test')\n",
    "\n",
    "    signals_l_train_ls = []\n",
    "    labels_l_train_ls = []\n",
    "    for cnt, signal in enumerate(signals_train_l):\n",
    "        if max(signal) > 1:\n",
    "            continue\n",
    "        signals_l_train_ls.append(signal)\n",
    "        labels_l_train_ls.append(labels_train_l[cnt])\n",
    "\n",
    "    signals_l_test_ls = []\n",
    "    labels_l_test_ls = []\n",
    "    for cnt, signal in enumerate(signals_test_l):\n",
    "        if max(signal) > 1:\n",
    "            continue\n",
    "        signals_l_test_ls.append(signal)\n",
    "        labels_l_test_ls.append(labels_test_l[cnt])\n",
    "\n",
    "\n",
    "    signals_l_train = np.array(signals_l_train_ls)\n",
    "    signals_l_test = np.array(signals_l_test_ls)\n",
    "    labels_l_train = np.array(labels_l_train_ls)\n",
    "    labels_l_test = np.array(labels_l_test_ls)\n",
    "    print(signals_l_train.shape, labels_l_test.shape)\n",
    "\n",
    "    return labels_l_train, labels_l_test, signals_l_train, signals_l_test"
   ],
   "metadata": {
    "collapsed": false,
    "pycharm": {
     "name": "#%%\n"
    }
   }
  },
  {
   "cell_type": "code",
   "execution_count": 3,
   "outputs": [],
   "source": [
    "def segmentation(signal, rpeak):\n",
    "    begin, end = 0, 0\n",
    "    margin = rpeak[0]\n",
    "    pieces = []\n",
    "\n",
    "    for num in range(1, len(rpeak)):\n",
    "        begin = end\n",
    "        end = rpeak[num] - margin\n",
    "        pieces.append(signal[begin: end])\n",
    "    pieces.append(signal[end:])\n",
    "\n",
    "    return pieces"
   ],
   "metadata": {
    "collapsed": false,
    "pycharm": {
     "name": "#%%\n"
    }
   }
  },
  {
   "cell_type": "code",
   "execution_count": 27,
   "outputs": [],
   "source": [
    "def get_features(template, h, d):\n",
    "    template_peaks_, _ = find_peaks(template, height=np.max(template) * h, distance=len(template) * d)\n",
    "    template_peaks = []\n",
    "\n",
    "    if len(template_peaks_) == 2:\n",
    "        template_peaks = template_peaks_\n",
    "    elif len(template_peaks_) > 2:\n",
    "        mmax = np.argmax(template[template_peaks_])\n",
    "        template_peaks.append(template_peaks_[mmax])\n",
    "        template_peaks_ = np.delete(template_peaks_, mmax)\n",
    "        mmax2 = np.argmax(template[template_peaks_])\n",
    "        template_peaks.append(template_peaks_[mmax2])\n",
    "    elif len(template_peaks_) < 2:\n",
    "        # plt.figure()\n",
    "        # plt.plot(template)\n",
    "        # plt.scatter(template_peaks_, template[template_peaks_])\n",
    "        # plt.show()\n",
    "        return None\n",
    "\n",
    "    Nmax = len(template)\n",
    "\n",
    "    dis12 = template_peaks[1] - template_peaks[0]\n",
    "    dis21 = Nmax - dis12\n",
    "    A0 = template[template_peaks[0]]\n",
    "    A1 = template[template_peaks[1]]\n",
    "\n",
    "    show = False\n",
    "\n",
    "    if show:\n",
    "        plt.figure()\n",
    "        plt.plot(template)\n",
    "        plt.scatter(template_peaks, template[template_peaks])\n",
    "        # plt.title(f'dis12/dis21:{dis12/dis21}, A0/A1:{A0/A1}')\n",
    "        plt.show()\n",
    "\n",
    "    return [dis12/dis21, A0/A1]"
   ],
   "metadata": {
    "collapsed": false,
    "pycharm": {
     "name": "#%%\n"
    }
   }
  },
  {
   "cell_type": "code",
   "execution_count": 28,
   "outputs": [
    {
     "name": "stdout",
     "output_type": "stream",
     "text": [
      "(4718, 1000) (2822, 6)\n",
      "(4718, 1000) (2822, 6)\n"
     ]
    },
    {
     "name": "stderr",
     "output_type": "stream",
     "text": [
      "101it [02:59,  1.77s/it]\n",
      "101it [02:55,  1.74s/it]\n"
     ]
    }
   ],
   "source": [
    "from tqdm import tqdm\n",
    "from dtw.dtw import dtw\n",
    "import random\n",
    "\n",
    "if __name__=='__main__':\n",
    "    labels_0_train, labels_0_test, signals_0_train, signals_0_test = std_data(0)\n",
    "    labels_1_train, labels_1_test, signals_1_train, signals_1_test = std_data(0.1)\n",
    "\n",
    "    def extract_features(signals, labels, alpha, h, d, echo):\n",
    "        Template_features = []\n",
    "        idxs = []\n",
    "        for cnt, signal in tqdm(enumerate(signals)):\n",
    "            hr = labels[cnt, 2]\n",
    "            large_peaks, _ = find_peaks(signal, height=np.max(signal)*0.3, distance=5000//(hr*alpha))\n",
    "            pieces = segmentation(signal, large_peaks)\n",
    "\n",
    "            template = performDBA(pieces)\n",
    "\n",
    "            show = False\n",
    "            if show:\n",
    "                for s in pieces:\n",
    "                    plt.plot(range(0,len(s)), s)\n",
    "                plt.draw()\n",
    "                plt.figure()\n",
    "                plt.plot(range(0,len(template)), template)\n",
    "                plt.show()\n",
    "\n",
    "            features = get_features(template, h, d)\n",
    "            if features is not None:\n",
    "                idxs.append(cnt)\n",
    "            Template_features.append(features)\n",
    "            if cnt > echo:\n",
    "                break\n",
    "        return np.array(Template_features), np.array(idxs)\n",
    "\n",
    "    echo = 100\n",
    "    template_features_train, idxs_train = extract_features(signals_0_train, labels_0_train, 1, 0.1, 0.15, echo)\n",
    "    template_features_test, idxs_test = extract_features(signals_0_test, labels_0_test, 1.2, 0.12, 0.12, echo)"
   ],
   "metadata": {
    "collapsed": false,
    "pycharm": {
     "name": "#%%\n"
    }
   }
  },
  {
   "cell_type": "code",
   "execution_count": 19,
   "outputs": [],
   "source": [
    "import numpy as np\n",
    "import matplotlib.pyplot as plt\n",
    "\n",
    "def calc_mae(gt, pred):\n",
    "    return np.mean(abs(np.array(gt) - np.array(pred)))\n",
    "\n",
    "def plot_2vectors(label, pred, save=False, name=None, path=None):\n",
    "    \"\"\"lsit1: label, list2: prediction\"\"\"\n",
    "\n",
    "    list1 = label\n",
    "    list2 = np.array(pred)\n",
    "    if list2.ndim == 2:\n",
    "        mae = calc_mae(list1, list2[:, 0])\n",
    "    else:\n",
    "        mae = calc_mae(list1, list2)\n",
    "\n",
    "    sorted_id = sorted(range(len(list1)), key=lambda k: list1[k])\n",
    "\n",
    "    plt.clf()\n",
    "    plt.text(0, np.min(list2), f'MAE={mae}')\n",
    "\n",
    "    plt.scatter(np.arange(list2.shape[0]), list2[sorted_id], s=1, alpha=0.5, label=f'{name} prediction', color='blue')\n",
    "    plt.scatter(np.arange(list1.shape[0]), list1[sorted_id], s=1, alpha=0.5, label=f'{name} label', color='red')\n",
    "    plt.legend(loc='lower right')\n",
    "\n",
    "    if save:\n",
    "        if path is None:\n",
    "            raise ValueError(\"If save is True, 'path' argument must be provided.\")\n",
    "        plt.savefig(f'{path}.jpg', dpi=300)\n",
    "        print(f'Saved plot to {path}.jpg')\n",
    "\n",
    "    plt.show()\n"
   ],
   "metadata": {
    "collapsed": false,
    "pycharm": {
     "name": "#%%\n"
    }
   }
  },
  {
   "cell_type": "code",
   "execution_count": 29,
   "outputs": [
    {
     "data": {
      "text/plain": "<Figure size 432x288 with 1 Axes>",
      "image/png": "[encoded data removed]"
     },
     "metadata": {
      "needs_background": "light"
     },
     "output_type": "display_data"
    },
    {
     "name": "stdout",
     "output_type": "stream",
     "text": [
      "1.8614653543463846\n"
     ]
    },
    {
     "data": {
      "text/plain": "<Figure size 432x288 with 1 Axes>",
      "image/png": "[encoded data removed]"
     },
     "metadata": {
      "needs_background": "light"
     },
     "output_type": "display_data"
    },
    {
     "data": {
      "text/plain": "<Figure size 432x288 with 1 Axes>",
      "image/png": "[encoded data removed]"
     },
     "metadata": {
      "needs_background": "light"
     },
     "output_type": "display_data"
    },
    {
     "name": "stdout",
     "output_type": "stream",
     "text": [
      "3.6398786177795426\n"
     ]
    },
    {
     "data": {
      "text/plain": "<Figure size 432x288 with 1 Axes>",
      "image/png": "[encoded data removed]"
     },
     "metadata": {
      "needs_background": "light"
     },
     "output_type": "display_data"
    }
   ],
   "source": [
    "from sklearn.linear_model import LinearRegression as LR\n",
    "# from Code.Tutorial.utils import plot_2vectors\n",
    "\n",
    "def plot_plot(features_train, features_test, labels_train, labels_test, title):\n",
    "    plt.figure()\n",
    "    plt.scatter(np.array(features_train), labels_train)\n",
    "    plt.scatter(np.array(features_test), labels_test)\n",
    "    plt.show()\n",
    "\n",
    "    reg = LR().fit(np.array(features_train).reshape(-1, 1), labels_train)\n",
    "    yhat = reg.predict(np.array(features_test).reshape(-1, 1))\n",
    "    print(np.mean(np.abs(yhat - labels_test)))\n",
    "\n",
    "    plot_2vectors(labels_test, yhat, False, title)\n",
    "\n",
    "plot_plot(template_features_train[:, 0],template_features_test[:, 0],labels_0_train[:echo+2, 4],labels_0_test[:echo+2, 4],'S_Template_DBA')\n",
    "plot_plot(template_features_train[:, 1],template_features_test[:, 1],labels_0_train[:echo+2, 5],labels_0_test[:echo+2, 5],'D_Template_DBA')"
   ],
   "metadata": {
    "collapsed": false,
    "pycharm": {
     "name": "#%%\n"
    }
   }
  },
  {
   "cell_type": "code",
   "execution_count": 23,
   "outputs": [
    {
     "data": {
      "text/plain": "((12,), (12,), (11,), (11,))"
     },
     "execution_count": 23,
     "metadata": {},
     "output_type": "execute_result"
    }
   ],
   "source": [
    "template_features_train[:, 0].shape,template_features_test[:, 0].shape,labels_0_train[:11, 4].shape,labels_0_test[:11, 4].shape"
   ],
   "metadata": {
    "collapsed": false,
    "pycharm": {
     "name": "#%%\n"
    }
   }
  },
  {
   "cell_type": "code",
   "execution_count": null,
   "outputs": [],
   "source": [],
   "metadata": {
    "collapsed": false,
    "pycharm": {
     "name": "#%%\n"
    }
   }
  }
 ],
 "metadata": {
  "kernelspec": {
   "display_name": "Python 3",
   "language": "python",
   "name": "python3"
  },
  "language_info": {
   "codemirror_mode": {
    "name": "ipython",
    "version": 2
   },
   "file_extension": ".py",
   "mimetype": "text/x-python",
   "name": "python",
   "nbconvert_exporter": "python",
   "pygments_lexer": "ipython2",
   "version": "2.7.6"
  }
 },
 "nbformat": 4,
 "nbformat_minor": 0
}