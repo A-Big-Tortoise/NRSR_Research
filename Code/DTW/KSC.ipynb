{
 "cells": [
  {
   "cell_type": "code",
   "execution_count": 2,
   "outputs": [],
   "source": [
    "import numpy as np\n",
    "import matplotlib.pyplot as plt\n",
    "from scipy.signal import find_peaks\n",
    "from Code.Tutorial.Dataset  import load_scg\n",
    "from DTW import dtwPlotTwoWay, dtw_easy\n",
    "import random\n",
    "from tqdm import tqdm"
   ],
   "metadata": {
    "collapsed": false,
    "pycharm": {
     "name": "#%%\n"
    }
   }
  },
  {
   "cell_type": "code",
   "execution_count": 3,
   "outputs": [],
   "source": [
    "def std_data(noise_level):\n",
    "    signals_train_l, labels_train_l, duration, fs = load_scg(noise_level, 'train')\n",
    "    signals_test_l, labels_test_l, _, _ = load_scg(noise_level, 'test')\n",
    "\n",
    "    signals_l_train_ls = []\n",
    "    labels_l_train_ls = []\n",
    "    for cnt, signal in enumerate(signals_train_l):\n",
    "        if max(signal) > 1:\n",
    "            continue\n",
    "        signals_l_train_ls.append(signal)\n",
    "        labels_l_train_ls.append(labels_train_l[cnt])\n",
    "\n",
    "    signals_l_test_ls = []\n",
    "    labels_l_test_ls = []\n",
    "    for cnt, signal in enumerate(signals_test_l):\n",
    "        if max(signal) > 1:\n",
    "            continue\n",
    "        signals_l_test_ls.append(signal)\n",
    "        labels_l_test_ls.append(labels_test_l[cnt])\n",
    "\n",
    "\n",
    "    signals_l_train = np.array(signals_l_train_ls)\n",
    "    signals_l_test = np.array(signals_l_test_ls)\n",
    "    labels_l_train = np.array(labels_l_train_ls)\n",
    "    labels_l_test = np.array(labels_l_test_ls)\n",
    "    print(signals_l_train.shape, labels_l_test.shape)\n",
    "\n",
    "    return labels_l_train, labels_l_test, signals_l_train, signals_l_test"
   ],
   "metadata": {
    "collapsed": false,
    "pycharm": {
     "name": "#%%\n"
    }
   }
  },
  {
   "cell_type": "code",
   "execution_count": 4,
   "outputs": [],
   "source": [
    "def segmentation(signal, rpeak):\n",
    "    begin, end = 0, 0\n",
    "    margin = rpeak[0]\n",
    "    pieces = []\n",
    "\n",
    "    # plt.figure()\n",
    "    for num in range(1, len(rpeak)):\n",
    "        begin = end\n",
    "        end = rpeak[num] - margin\n",
    "        pieces.append(signal[begin: end])\n",
    "        # plt.plot(signal[begin: end])\n",
    "    # plt.show()\n",
    "    Nmax = 0\n",
    "    for piece in pieces:\n",
    "        Nmax = max(Nmax, piece.shape[0])\n",
    "\n",
    "    pieces_padded = []\n",
    "    for piece in pieces:\n",
    "        N = Nmax - piece.shape[0]\n",
    "        pieces_padded.append(np.pad(piece, (0, N), 'constant'))\n",
    "    pieces_padded = np.array(pieces_padded)\n",
    "    return pieces_padded"
   ],
   "metadata": {
    "collapsed": false,
    "pycharm": {
     "name": "#%%\n"
    }
   }
  },
  {
   "cell_type": "code",
   "execution_count": 5,
   "outputs": [],
   "source": [
    "def get_features(template, h, d):\n",
    "    template_peaks_, _ = find_peaks(template, height=np.max(template) * h, distance=len(template) * d)\n",
    "    template_peaks = []\n",
    "\n",
    "    if len(template_peaks_) == 2:\n",
    "        template_peaks = template_peaks_\n",
    "    elif len(template_peaks_) > 2:\n",
    "        mmax = np.argmax(template[template_peaks_])\n",
    "        template_peaks.append(template_peaks_[mmax])\n",
    "        template_peaks_ = np.delete(template_peaks_, mmax)\n",
    "        mmax2 = np.argmax(template[template_peaks_])\n",
    "        template_peaks.append(template_peaks_[mmax2])\n",
    "    elif len(template_peaks_) < 2:\n",
    "        # plt.figure()\n",
    "        # plt.plot(template)\n",
    "        # plt.scatter(template_peaks_, template[template_peaks_])\n",
    "        # plt.show()\n",
    "        return None\n",
    "\n",
    "    Nmax = len(template)\n",
    "\n",
    "    dis12 = template_peaks[1] - template_peaks[0]\n",
    "    dis21 = Nmax - dis12\n",
    "    A0 = template[template_peaks[0]]\n",
    "    A1 = template[template_peaks[1]]\n",
    "\n",
    "    show = False\n",
    "\n",
    "    if show:\n",
    "        plt.figure()\n",
    "        plt.plot(template)\n",
    "        plt.scatter(template_peaks, template[template_peaks])\n",
    "        # plt.title(f'dis12/dis21:{dis12/dis21}, A0/A1:{A0/A1}')\n",
    "        plt.show()\n",
    "\n",
    "\n",
    "    return [dis12/dis21, A0/A1]"
   ],
   "metadata": {
    "collapsed": false,
    "pycharm": {
     "name": "#%%\n"
    }
   }
  },
  {
   "cell_type": "code",
   "execution_count": 85,
   "outputs": [],
   "source": [
    "def make_template(piece0, piece1, path):\n",
    "    path0 = path[0]\n",
    "    path1 = path[1]\n",
    "    new_piece0 = np.array([piece0[idx] for idx in path0])\n",
    "    new_piece1 = np.array([piece1[idx] for idx in path1])\n",
    "\n",
    "    template = 0.5 * (new_piece0 + new_piece1)\n",
    "    return template"
   ],
   "metadata": {
    "collapsed": false,
    "pycharm": {
     "name": "#%%\n"
    }
   }
  },
  {
   "cell_type": "code",
   "execution_count": 40,
   "outputs": [],
   "source": [
    "def performKSC(pieces):\n",
    "    n, dim = pieces.shape\n",
    "\n",
    "    matrix = np.zeros((dim, dim))\n",
    "\n",
    "    for piece in pieces:\n",
    "        norm_2 = np.linalg.norm(piece, 2)\n",
    "        matrix += (np.eye(dim) -  piece @ piece.T / norm_2)\n",
    "\n",
    "        # 计算矩阵的特征值和特征向量\n",
    "    eigenvalues, eigenvectors = np.linalg.eig(matrix)\n",
    "\n",
    "    # 找到最小特征值的索引\n",
    "    min_eigenvalue_index = np.argmin(eigenvalues)\n",
    "\n",
    "    # 提取对应的最小特征值和特征向量\n",
    "    _ = eigenvalues[min_eigenvalue_index]\n",
    "    min_eigenvector = eigenvectors[:, min_eigenvalue_index]\n",
    "    # print(matrix)\n",
    "    return min_eigenvector"
   ],
   "metadata": {
    "collapsed": false,
    "pycharm": {
     "name": "#%%\n"
    }
   }
  },
  {
   "cell_type": "code",
   "execution_count": 32,
   "outputs": [],
   "source": [
    "def extract_dtw(signals, labels, alpha,  h, d, echo):\n",
    "    KSC_features = []\n",
    "    idxs = []\n",
    "\n",
    "    for cnt, signal in tqdm(enumerate(signals)):\n",
    "        hr = labels[cnt, 2]\n",
    "        large_peaks, _ = find_peaks(signal, height=np.max(signal)*0.3, distance=5000//(hr*alpha))\n",
    "        pieces = segmentation(signal, large_peaks)\n",
    "        print(pieces.shape)\n",
    "        template = performKSC(pieces)\n",
    "\n",
    "        plt.figure()\n",
    "        plt.plot(template)\n",
    "        plt.show()\n",
    "\n",
    "        if cnt > echo:\n",
    "            break\n",
    "    return np.array(KSC_features), np.array(idxs)\n"
   ],
   "metadata": {
    "collapsed": false,
    "pycharm": {
     "name": "#%%\n"
    }
   }
  },
  {
   "cell_type": "code",
   "execution_count": 36,
   "outputs": [],
   "source": [
    "def std_2d(matrix):\n",
    "    mean_values = np.mean(matrix, axis=1, keepdims=True)\n",
    "    std_dev_values = np.std(matrix, axis=1, keepdims=True)\n",
    "    print(std_dev_values.shape)\n",
    "    # 使用Z标准化公式进行标准化\n",
    "    z_standardized_matrix = (matrix - mean_values) / std_dev_values\n",
    "    return z_standardized_matrix"
   ],
   "metadata": {
    "collapsed": false,
    "pycharm": {
     "name": "#%%\n"
    }
   }
  },
  {
   "cell_type": "code",
   "execution_count": 39,
   "outputs": [
    {
     "name": "stdout",
     "output_type": "stream",
     "text": [
      "(4718, 1000) (2822, 6)\n",
      "(4718, 1000) (2822, 6)\n"
     ]
    },
    {
     "name": "stderr",
     "output_type": "stream",
     "text": [
      "0it [00:00, ?it/s]"
     ]
    },
    {
     "name": "stdout",
     "output_type": "stream",
     "text": [
      "(15, 63)\n",
      "[[ 1.49999054e+01 -9.45954268e-05 -9.45954268e-05 ... -9.45954268e-05\n",
      "  -9.45954268e-05 -9.45954268e-05]\n",
      " [-9.45954268e-05  1.49999054e+01 -9.45954268e-05 ... -9.45954268e-05\n",
      "  -9.45954268e-05 -9.45954268e-05]\n",
      " [-9.45954268e-05 -9.45954268e-05  1.49999054e+01 ... -9.45954268e-05\n",
      "  -9.45954268e-05 -9.45954268e-05]\n",
      " ...\n",
      " [-9.45954268e-05 -9.45954268e-05 -9.45954268e-05 ...  1.49999054e+01\n",
      "  -9.45954268e-05 -9.45954268e-05]\n",
      " [-9.45954268e-05 -9.45954268e-05 -9.45954268e-05 ... -9.45954268e-05\n",
      "   1.49999054e+01 -9.45954268e-05]\n",
      " [-9.45954268e-05 -9.45954268e-05 -9.45954268e-05 ... -9.45954268e-05\n",
      "  -9.45954268e-05  1.49999054e+01]]\n"
     ]
    },
    {
     "data": {
      "text/plain": "<Figure size 432x288 with 1 Axes>",
      "image/png": "[encoded data removed]"
     },
     "metadata": {
      "needs_background": "light"
     },
     "output_type": "display_data"
    },
    {
     "name": "stderr",
     "output_type": "stream",
     "text": [
      "1it [00:00,  9.03it/s]"
     ]
    },
    {
     "name": "stdout",
     "output_type": "stream",
     "text": [
      "(23, 42)\n",
      "[[ 2.29999290e+01 -7.09944237e-05 -7.09944237e-05 ... -7.09944237e-05\n",
      "  -7.09944237e-05 -7.09944237e-05]\n",
      " [-7.09944237e-05  2.29999290e+01 -7.09944237e-05 ... -7.09944237e-05\n",
      "  -7.09944237e-05 -7.09944237e-05]\n",
      " [-7.09944237e-05 -7.09944237e-05  2.29999290e+01 ... -7.09944237e-05\n",
      "  -7.09944237e-05 -7.09944237e-05]\n",
      " ...\n",
      " [-7.09944237e-05 -7.09944237e-05 -7.09944237e-05 ...  2.29999290e+01\n",
      "  -7.09944237e-05 -7.09944237e-05]\n",
      " [-7.09944237e-05 -7.09944237e-05 -7.09944237e-05 ... -7.09944237e-05\n",
      "   2.29999290e+01 -7.09944237e-05]\n",
      " [-7.09944237e-05 -7.09944237e-05 -7.09944237e-05 ... -7.09944237e-05\n",
      "  -7.09944237e-05  2.29999290e+01]]\n"
     ]
    },
    {
     "data": {
      "text/plain": "<Figure size 432x288 with 1 Axes>",
      "image/png": "[encoded data removed]"
     },
     "metadata": {
      "needs_background": "light"
     },
     "output_type": "display_data"
    },
    {
     "name": "stderr",
     "output_type": "stream",
     "text": [
      "2it [00:00,  7.77it/s]"
     ]
    },
    {
     "name": "stdout",
     "output_type": "stream",
     "text": [
      "(8, 111)\n",
      "[[ 7.99995261e+00 -4.73868026e-05 -4.73868026e-05 ... -4.73868026e-05\n",
      "  -4.73868026e-05 -4.73868026e-05]\n",
      " [-4.73868026e-05  7.99995261e+00 -4.73868026e-05 ... -4.73868026e-05\n",
      "  -4.73868026e-05 -4.73868026e-05]\n",
      " [-4.73868026e-05 -4.73868026e-05  7.99995261e+00 ... -4.73868026e-05\n",
      "  -4.73868026e-05 -4.73868026e-05]\n",
      " ...\n",
      " [-4.73868026e-05 -4.73868026e-05 -4.73868026e-05 ...  7.99995261e+00\n",
      "  -4.73868026e-05 -4.73868026e-05]\n",
      " [-4.73868026e-05 -4.73868026e-05 -4.73868026e-05 ... -4.73868026e-05\n",
      "   7.99995261e+00 -4.73868026e-05]\n",
      " [-4.73868026e-05 -4.73868026e-05 -4.73868026e-05 ... -4.73868026e-05\n",
      "  -4.73868026e-05  7.99995261e+00]]\n"
     ]
    },
    {
     "data": {
      "text/plain": "<Figure size 432x288 with 1 Axes>",
      "image/png": "[encoded data removed]"
     },
     "metadata": {
      "needs_background": "light"
     },
     "output_type": "display_data"
    },
    {
     "name": "stderr",
     "output_type": "stream",
     "text": [
      "3it [00:00,  7.43it/s]"
     ]
    },
    {
     "name": "stdout",
     "output_type": "stream",
     "text": [
      "(12, 77)\n",
      "[[ 1.19999412e+01 -5.88437129e-05 -5.88437129e-05 ... -5.88437129e-05\n",
      "  -5.88437129e-05 -5.88437129e-05]\n",
      " [-5.88437129e-05  1.19999412e+01 -5.88437129e-05 ... -5.88437129e-05\n",
      "  -5.88437129e-05 -5.88437129e-05]\n",
      " [-5.88437129e-05 -5.88437129e-05  1.19999412e+01 ... -5.88437129e-05\n",
      "  -5.88437129e-05 -5.88437129e-05]\n",
      " ...\n",
      " [-5.88437129e-05 -5.88437129e-05 -5.88437129e-05 ...  1.19999412e+01\n",
      "  -5.88437129e-05 -5.88437129e-05]\n",
      " [-5.88437129e-05 -5.88437129e-05 -5.88437129e-05 ... -5.88437129e-05\n",
      "   1.19999412e+01 -5.88437129e-05]\n",
      " [-5.88437129e-05 -5.88437129e-05 -5.88437129e-05 ... -5.88437129e-05\n",
      "  -5.88437129e-05  1.19999412e+01]]\n"
     ]
    },
    {
     "data": {
      "text/plain": "<Figure size 432x288 with 1 Axes>",
      "image/png": "[encoded data removed]"
     },
     "metadata": {
      "needs_background": "light"
     },
     "output_type": "display_data"
    },
    {
     "name": "stderr",
     "output_type": "stream",
     "text": [
      "4it [00:00,  7.28it/s]"
     ]
    },
    {
     "name": "stdout",
     "output_type": "stream",
     "text": [
      "(18, 53)\n",
      "[[ 1.79998889e+01 -1.11119782e-04 -1.11119782e-04 ... -1.11119782e-04\n",
      "  -1.11119782e-04 -1.11119782e-04]\n",
      " [-1.11119782e-04  1.79998889e+01 -1.11119782e-04 ... -1.11119782e-04\n",
      "  -1.11119782e-04 -1.11119782e-04]\n",
      " [-1.11119782e-04 -1.11119782e-04  1.79998889e+01 ... -1.11119782e-04\n",
      "  -1.11119782e-04 -1.11119782e-04]\n",
      " ...\n",
      " [-1.11119782e-04 -1.11119782e-04 -1.11119782e-04 ...  1.79998889e+01\n",
      "  -1.11119782e-04 -1.11119782e-04]\n",
      " [-1.11119782e-04 -1.11119782e-04 -1.11119782e-04 ... -1.11119782e-04\n",
      "   1.79998889e+01 -1.11119782e-04]\n",
      " [-1.11119782e-04 -1.11119782e-04 -1.11119782e-04 ... -1.11119782e-04\n",
      "  -1.11119782e-04  1.79998889e+01]]\n"
     ]
    },
    {
     "data": {
      "text/plain": "<Figure size 432x288 with 1 Axes>",
      "image/png": "[encoded data removed]"
     },
     "metadata": {
      "needs_background": "light"
     },
     "output_type": "display_data"
    },
    {
     "name": "stderr",
     "output_type": "stream",
     "text": [
      "4it [00:00,  6.05it/s]\n",
      "0it [00:00, ?it/s]"
     ]
    },
    {
     "name": "stdout",
     "output_type": "stream",
     "text": [
      "(10, 91)\n",
      "[[ 9.99993708e+00 -6.29154117e-05 -6.29154117e-05 ... -6.29154117e-05\n",
      "  -6.29154117e-05 -6.29154117e-05]\n",
      " [-6.29154117e-05  9.99993708e+00 -6.29154117e-05 ... -6.29154117e-05\n",
      "  -6.29154117e-05 -6.29154117e-05]\n",
      " [-6.29154117e-05 -6.29154117e-05  9.99993708e+00 ... -6.29154117e-05\n",
      "  -6.29154117e-05 -6.29154117e-05]\n",
      " ...\n",
      " [-6.29154117e-05 -6.29154117e-05 -6.29154117e-05 ...  9.99993708e+00\n",
      "  -6.29154117e-05 -6.29154117e-05]\n",
      " [-6.29154117e-05 -6.29154117e-05 -6.29154117e-05 ... -6.29154117e-05\n",
      "   9.99993708e+00 -6.29154117e-05]\n",
      " [-6.29154117e-05 -6.29154117e-05 -6.29154117e-05 ... -6.29154117e-05\n",
      "  -6.29154117e-05  9.99993708e+00]]\n"
     ]
    },
    {
     "data": {
      "text/plain": "<Figure size 432x288 with 1 Axes>",
      "image/png": "[encoded data removed]"
     },
     "metadata": {
      "needs_background": "light"
     },
     "output_type": "display_data"
    },
    {
     "name": "stderr",
     "output_type": "stream",
     "text": [
      "1it [00:00,  7.11it/s]"
     ]
    },
    {
     "name": "stdout",
     "output_type": "stream",
     "text": [
      "(19, 50)\n",
      "[[ 1.89998926e+01 -1.07393008e-04 -1.07393008e-04 ... -1.07393008e-04\n",
      "  -1.07393008e-04 -1.07393008e-04]\n",
      " [-1.07393008e-04  1.89998926e+01 -1.07393008e-04 ... -1.07393008e-04\n",
      "  -1.07393008e-04 -1.07393008e-04]\n",
      " [-1.07393008e-04 -1.07393008e-04  1.89998926e+01 ... -1.07393008e-04\n",
      "  -1.07393008e-04 -1.07393008e-04]\n",
      " ...\n",
      " [-1.07393008e-04 -1.07393008e-04 -1.07393008e-04 ...  1.89998926e+01\n",
      "  -1.07393008e-04 -1.07393008e-04]\n",
      " [-1.07393008e-04 -1.07393008e-04 -1.07393008e-04 ... -1.07393008e-04\n",
      "   1.89998926e+01 -1.07393008e-04]\n",
      " [-1.07393008e-04 -1.07393008e-04 -1.07393008e-04 ... -1.07393008e-04\n",
      "  -1.07393008e-04  1.89998926e+01]]\n"
     ]
    },
    {
     "data": {
      "text/plain": "<Figure size 432x288 with 1 Axes>",
      "image/png": "[encoded data removed]"
     },
     "metadata": {
      "needs_background": "light"
     },
     "output_type": "display_data"
    },
    {
     "name": "stderr",
     "output_type": "stream",
     "text": [
      "2it [00:00,  8.15it/s]"
     ]
    },
    {
     "name": "stdout",
     "output_type": "stream",
     "text": [
      "(23, 42)\n",
      "[[ 2.29999073e+01 -9.27434947e-05 -9.27434947e-05 ... -9.27434947e-05\n",
      "  -9.27434947e-05 -9.27434947e-05]\n",
      " [-9.27434947e-05  2.29999073e+01 -9.27434947e-05 ... -9.27434947e-05\n",
      "  -9.27434947e-05 -9.27434947e-05]\n",
      " [-9.27434947e-05 -9.27434947e-05  2.29999073e+01 ... -9.27434947e-05\n",
      "  -9.27434947e-05 -9.27434947e-05]\n",
      " ...\n",
      " [-9.27434947e-05 -9.27434947e-05 -9.27434947e-05 ...  2.29999073e+01\n",
      "  -9.27434947e-05 -9.27434947e-05]\n",
      " [-9.27434947e-05 -9.27434947e-05 -9.27434947e-05 ... -9.27434947e-05\n",
      "   2.29999073e+01 -9.27434947e-05]\n",
      " [-9.27434947e-05 -9.27434947e-05 -9.27434947e-05 ... -9.27434947e-05\n",
      "  -9.27434947e-05  2.29999073e+01]]\n"
     ]
    },
    {
     "data": {
      "text/plain": "<Figure size 432x288 with 1 Axes>",
      "image/png": "[encoded data removed]"
     },
     "metadata": {
      "needs_background": "light"
     },
     "output_type": "display_data"
    },
    {
     "name": "stderr",
     "output_type": "stream",
     "text": [
      "3it [00:00,  8.53it/s]"
     ]
    },
    {
     "name": "stdout",
     "output_type": "stream",
     "text": [
      "(8, 111)\n",
      "[[ 7.99994847e+00 -5.15275568e-05 -5.15275568e-05 ... -5.15275568e-05\n",
      "  -5.15275568e-05 -5.15275568e-05]\n",
      " [-5.15275568e-05  7.99994847e+00 -5.15275568e-05 ... -5.15275568e-05\n",
      "  -5.15275568e-05 -5.15275568e-05]\n",
      " [-5.15275568e-05 -5.15275568e-05  7.99994847e+00 ... -5.15275568e-05\n",
      "  -5.15275568e-05 -5.15275568e-05]\n",
      " ...\n",
      " [-5.15275568e-05 -5.15275568e-05 -5.15275568e-05 ...  7.99994847e+00\n",
      "  -5.15275568e-05 -5.15275568e-05]\n",
      " [-5.15275568e-05 -5.15275568e-05 -5.15275568e-05 ... -5.15275568e-05\n",
      "   7.99994847e+00 -5.15275568e-05]\n",
      " [-5.15275568e-05 -5.15275568e-05 -5.15275568e-05 ... -5.15275568e-05\n",
      "  -5.15275568e-05  7.99994847e+00]]\n"
     ]
    },
    {
     "data": {
      "text/plain": "<Figure size 432x288 with 1 Axes>",
      "image/png": "[encoded data removed]"
     },
     "metadata": {
      "needs_background": "light"
     },
     "output_type": "display_data"
    },
    {
     "name": "stdout",
     "output_type": "stream",
     "text": [
      "(12, 77)\n",
      "[[ 1.19999274e+01 -7.26242119e-05 -7.26242119e-05 ... -7.26242119e-05\n",
      "  -7.26242119e-05 -7.26242119e-05]\n",
      " [-7.26242119e-05  1.19999274e+01 -7.26242119e-05 ... -7.26242119e-05\n",
      "  -7.26242119e-05 -7.26242119e-05]\n",
      " [-7.26242119e-05 -7.26242119e-05  1.19999274e+01 ... -7.26242119e-05\n",
      "  -7.26242119e-05 -7.26242119e-05]\n",
      " ...\n",
      " [-7.26242119e-05 -7.26242119e-05 -7.26242119e-05 ...  1.19999274e+01\n",
      "  -7.26242119e-05 -7.26242119e-05]\n",
      " [-7.26242119e-05 -7.26242119e-05 -7.26242119e-05 ... -7.26242119e-05\n",
      "   1.19999274e+01 -7.26242119e-05]\n",
      " [-7.26242119e-05 -7.26242119e-05 -7.26242119e-05 ... -7.26242119e-05\n",
      "  -7.26242119e-05  1.19999274e+01]]\n"
     ]
    },
    {
     "data": {
      "text/plain": "<Figure size 432x288 with 1 Axes>",
      "image/png": "[encoded data removed]"
     },
     "metadata": {
      "needs_background": "light"
     },
     "output_type": "display_data"
    },
    {
     "name": "stderr",
     "output_type": "stream",
     "text": [
      "4it [00:00,  6.88it/s]\n"
     ]
    }
   ],
   "source": [
    "if __name__=='__main__':\n",
    "    labels_0_train, labels_0_test, signals_0_train, signals_0_test = std_data(0)\n",
    "    labels_1_train, labels_1_test, signals_1_train, signals_1_test = std_data(0.1)\n",
    "\n",
    "    echo1, echo2 = 3, 3\n",
    "    KSC_features_train, idxs_train = extract_dtw(signals_0_train,labels_0_train,1,0.1,0.15,echo1)\n",
    "    KSC_features_test, idxs_test = extract_dtw(signals_0_test, labels_0_test,1,0.12,0.12,echo2)"
   ],
   "metadata": {
    "collapsed": false,
    "pycharm": {
     "name": "#%%\n"
    }
   }
  }
 ],
 "metadata": {
  "kernelspec": {
   "display_name": "Python 3",
   "language": "python",
   "name": "python3"
  },
  "language_info": {
   "codemirror_mode": {
    "name": "ipython",
    "version": 2
   },
   "file_extension": ".py",
   "mimetype": "text/x-python",
   "name": "python",
   "nbconvert_exporter": "python",
   "pygments_lexer": "ipython2",
   "version": "2.7.6"
  }
 },
 "nbformat": 4,
 "nbformat_minor": 0
}