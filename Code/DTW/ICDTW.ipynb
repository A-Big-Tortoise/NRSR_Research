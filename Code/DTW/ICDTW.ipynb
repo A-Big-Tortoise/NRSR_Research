{
 "cells": [
  {
   "cell_type": "code",
   "execution_count": 12,
   "outputs": [],
   "source": [
    "import numpy as np\n",
    "import matplotlib.pyplot as plt\n",
    "from scipy.signal import find_peaks\n",
    "from Code.Tutorial.Dataset  import load_scg\n",
    "from DTW import dtwPlotTwoWay, dtw_easy\n",
    "import random\n",
    "from tqdm import tqdm\n",
    "from scipy.interpolate import CubicSpline\n"
   ],
   "metadata": {
    "collapsed": false,
    "pycharm": {
     "name": "#%%\n"
    }
   }
  },
  {
   "cell_type": "code",
   "execution_count": 13,
   "outputs": [],
   "source": [
    "def std_data(noise_level):\n",
    "    signals_train_l, labels_train_l, duration, fs = load_scg(noise_level, 'train')\n",
    "    signals_test_l, labels_test_l, _, _ = load_scg(noise_level, 'test')\n",
    "\n",
    "    signals_l_train_ls = []\n",
    "    labels_l_train_ls = []\n",
    "    for cnt, signal in enumerate(signals_train_l):\n",
    "        if max(signal) > 1:\n",
    "            continue\n",
    "        signals_l_train_ls.append(signal)\n",
    "        labels_l_train_ls.append(labels_train_l[cnt])\n",
    "\n",
    "    signals_l_test_ls = []\n",
    "    labels_l_test_ls = []\n",
    "    for cnt, signal in enumerate(signals_test_l):\n",
    "        if max(signal) > 1:\n",
    "            continue\n",
    "        signals_l_test_ls.append(signal)\n",
    "        labels_l_test_ls.append(labels_test_l[cnt])\n",
    "\n",
    "\n",
    "    signals_l_train = np.array(signals_l_train_ls)\n",
    "    signals_l_test = np.array(signals_l_test_ls)\n",
    "    labels_l_train = np.array(labels_l_train_ls)\n",
    "    labels_l_test = np.array(labels_l_test_ls)\n",
    "    print(signals_l_train.shape, labels_l_test.shape)\n",
    "\n",
    "    return labels_l_train, labels_l_test, signals_l_train, signals_l_test"
   ],
   "metadata": {
    "collapsed": false,
    "pycharm": {
     "name": "#%%\n"
    }
   }
  },
  {
   "cell_type": "code",
   "execution_count": 14,
   "outputs": [],
   "source": [
    "def segmentation(signal, rpeak):\n",
    "    begin, end = 0, 0\n",
    "    margin = rpeak[0]\n",
    "    pieces = []\n",
    "\n",
    "    # plt.figure()\n",
    "    for num in range(1, len(rpeak)):\n",
    "        begin = end\n",
    "        end = rpeak[num] - margin\n",
    "        pieces.append(signal[begin: end])\n",
    "        # plt.plot(signal[begin: end])\n",
    "    # plt.show()\n",
    "    return pieces"
   ],
   "metadata": {
    "collapsed": false,
    "pycharm": {
     "name": "#%%\n"
    }
   }
  },
  {
   "cell_type": "code",
   "execution_count": 15,
   "outputs": [],
   "source": [
    "def get_features(template, h, d):\n",
    "    template_peaks_, _ = find_peaks(template, height=np.max(template) * h, distance=len(template) * d)\n",
    "    template_peaks = []\n",
    "\n",
    "    if len(template_peaks_) == 2:\n",
    "        template_peaks = template_peaks_\n",
    "    elif len(template_peaks_) > 2:\n",
    "        mmax = np.argmax(template[template_peaks_])\n",
    "        template_peaks.append(template_peaks_[mmax])\n",
    "        template_peaks_ = np.delete(template_peaks_, mmax)\n",
    "        mmax2 = np.argmax(template[template_peaks_])\n",
    "        template_peaks.append(template_peaks_[mmax2])\n",
    "    elif len(template_peaks_) < 2:\n",
    "        # plt.figure()\n",
    "        # plt.plot(template)\n",
    "        # plt.scatter(template_peaks_, template[template_peaks_])\n",
    "        # plt.show()\n",
    "        return None\n",
    "\n",
    "    Nmax = len(template)\n",
    "\n",
    "    dis12 = template_peaks[1] - template_peaks[0]\n",
    "    dis21 = Nmax - dis12\n",
    "    A0 = template[template_peaks[0]]\n",
    "    A1 = template[template_peaks[1]]\n",
    "\n",
    "    show = False\n",
    "\n",
    "    if show:\n",
    "        plt.figure()\n",
    "        plt.plot(template)\n",
    "        plt.scatter(template_peaks, template[template_peaks])\n",
    "        # plt.title(f'dis12/dis21:{dis12/dis21}, A0/A1:{A0/A1}')\n",
    "        plt.show()\n",
    "\n",
    "\n",
    "    return [dis12/dis21, A0/A1]"
   ],
   "metadata": {
    "collapsed": false,
    "pycharm": {
     "name": "#%%\n"
    }
   }
  },
  {
   "cell_type": "code",
   "execution_count": 16,
   "outputs": [],
   "source": [
    "def performNLAAF1(pieces):\n",
    "    # 2^N\n",
    "    # 1. drop out something\n",
    "    # 2. use loops to simulate recursive\n",
    "    # 3. get the template\n",
    "    pieces_num = len(pieces)\n",
    "    k = 1\n",
    "    while pieces_num >= k:\n",
    "        k *= 2\n",
    "    k = int(k/2)\n",
    "\n",
    "    random_choice = random.sample(range(pieces_num), k)\n",
    "    chosen_pieces = [pieces[choice] for choice in random_choice]\n",
    "\n",
    "    dist = lambda x, y: np.abs(x - y)\n",
    "\n",
    "    this_term = chosen_pieces\n",
    "\n",
    "    while k > 1:\n",
    "        last_term = this_term\n",
    "        this_term = []\n",
    "\n",
    "        for cnt in range(0, k, 2):\n",
    "            a = cnt\n",
    "            b = cnt + 1\n",
    "            piece1, piece2 = last_term[a], last_term[b]\n",
    "\n",
    "            _, _, _, path = dtw_easy(piece1, piece2, dist)\n",
    "            template = make_template(piece1, piece2, path)\n",
    "            this_term.append(template)\n",
    "\n",
    "        k = int(k / 2)\n",
    "\n",
    "    return np.array(this_term[0])\n",
    "\n",
    "def performNLAAF2(pieces):\n",
    "    # one by one\n",
    "    # 1. use loops to calculate\n",
    "    # 2. get the template\n",
    "    pieces_num = len(pieces)\n",
    "    dist = lambda x, y: np.abs(x - y)\n",
    "    _, _, _, path = dtw_easy(pieces[0], pieces[1], dist)\n",
    "    template = make_template(pieces[0], pieces[1], path)\n",
    "    for cnt in range(2, pieces_num):\n",
    "        _, _, _, path = dtw_easy(template, pieces[cnt], dist)\n",
    "        template = make_template(template, pieces[cnt], path)\n",
    "    return template"
   ],
   "metadata": {
    "collapsed": false,
    "pycharm": {
     "name": "#%%\n"
    }
   }
  },
  {
   "cell_type": "code",
   "execution_count": 17,
   "outputs": [],
   "source": [
    "def make_template(piece1, piece2, path, w1, w2):\n",
    "    path1 = path[0]\n",
    "    path2 = path[1]\n",
    "    x, y = [], []\n",
    "\n",
    "    for x_1, x_2 in zip(path1, path2):\n",
    "        x_new = (w1 * x_1 + w2 * x_2) / (w1 + w2)\n",
    "        y_new = (piece1[x_1] * w1 + piece2[x_2] * w2) / (w1 + w2)\n",
    "        x.append(x_new)\n",
    "        y.append(y_new)\n",
    "\n",
    "    # print(np.array(x).shape, np.array(y).shape)\n",
    "    return np.array(x), np.array(y)"
   ],
   "metadata": {
    "collapsed": false,
    "pycharm": {
     "name": "#%%\n"
    }
   }
  },
  {
   "cell_type": "code",
   "execution_count": 18,
   "outputs": [],
   "source": [
    "def cdtw_averaging(piece1, piece2, w1, w2):\n",
    "    dist = lambda x, y: np.abs(x - y)\n",
    "    _, _, _, path = dtw_easy(piece1, piece2, dist)\n",
    "\n",
    "    N_ = min(len(piece1), len(piece2))\n",
    "    x, y = make_template(piece1, piece2, path, w1, w2)\n",
    "\n",
    "    # 创建CubicSpline对象\n",
    "    cs = CubicSpline(x, y)\n",
    "    new_x = np.linspace(0, N_, N_, endpoint=False)\n",
    "    new_y = cs(new_x)\n",
    "\n",
    "    show=False\n",
    "    if show:\n",
    "        plt.figure(figsize=(12, 3))\n",
    "        plt.plot(x, y, label='Old')\n",
    "        plt.scatter(x, y)\n",
    "        plt.plot(new_x, new_y, label='New')\n",
    "        plt.scatter(new_x, new_y)\n",
    "        plt.legend()\n",
    "        plt.show()\n",
    "    return new_y"
   ],
   "metadata": {
    "collapsed": false,
    "pycharm": {
     "name": "#%%\n"
    }
   }
  },
  {
   "cell_type": "code",
   "execution_count": 61,
   "outputs": [],
   "source": [
    "def icdtw_averaging(A, B, w_A, w_B):\n",
    "    # initialize\n",
    "    Beta_A1, Beta_A2 = 1e-5, 1e5\n",
    "    Beta_B = 1\n",
    "    # Beta_A3 = 0.5 * (Beta_A1 + Beta_A2)\n",
    "\n",
    "    # C = cdtw_averaging(A, B, Beta_A3, Beta_B)\n",
    "    # # print(C.shape)\n",
    "    dist = lambda x, y: np.abs(x - y)\n",
    "    # dis_CA, _, _, _ = dtw_easy(C, A, dist) * w_A\n",
    "    # a = dtw_easy(C, B, dist) * w_B\n",
    "    # dis_CB = a[0]\n",
    "    # dis_CB, _, _, _ = dtw_easy(C, B, dist) * w_B\n",
    "\n",
    "\n",
    "    # 论文中的伪代码出现了问题\n",
    "    # if dis_CA < dis_CB:\n",
    "    #     Beta_A3 = Beta_A1\n",
    "    # else:\n",
    "    #     Beta_A3 = Beta_A2\n",
    "\n",
    "    # while np.abs(dis_CA - dis_CB) > 0:\n",
    "    iter_n = 0\n",
    "    while iter_n < 10:\n",
    "        iter_n += 1\n",
    "        # print(np.abs(dis_CA - dis_CB))\n",
    "        Beta_A3 = 0.5 * (Beta_A1 + Beta_A2)\n",
    "        C = cdtw_averaging(A, B, Beta_A3, Beta_B)\n",
    "        CA = dtw_easy(C, A, dist) * w_A\n",
    "        dis_CA = CA[0]\n",
    "        # dis_CA, _, _, _ = dtw_easy(C, A, dist) * w_A\n",
    "\n",
    "        CB = dtw_easy(C, B, dist) * w_B\n",
    "        dis_CB = CB[0]\n",
    "        # dis_CB, _, _, _ = dtw_easy(C, B, dist) * w_B\n",
    "        if dis_CA < dis_CB:\n",
    "            Beta_A1 = Beta_A3\n",
    "        else:\n",
    "            Beta_A2 = Beta_A3\n",
    "\n",
    "    return C"
   ],
   "metadata": {
    "collapsed": false,
    "pycharm": {
     "name": "#%%\n"
    }
   }
  },
  {
   "cell_type": "code",
   "execution_count": 62,
   "outputs": [],
   "source": [
    "def STMF_Averaging_Scheme(pieces):\n",
    "    N = len(pieces)\n",
    "    weights = [1] * N\n",
    "    while len(pieces) > 1:\n",
    "\n",
    "        A, B = pieces[0], pieces[1]\n",
    "\n",
    "        w_A, w_B = weights[0], weights[1]\n",
    "        C = icdtw_averaging(A, B, w_A, w_B)\n",
    "        w_C = w_A + w_B\n",
    "        pieces.append(C)\n",
    "        weights.append(w_C)\n",
    "\n",
    "        pieces = pieces[2:]\n",
    "        weights = weights[2:]\n",
    "    return pieces[0]"
   ],
   "metadata": {
    "collapsed": false,
    "pycharm": {
     "name": "#%%\n"
    }
   }
  },
  {
   "cell_type": "code",
   "execution_count": 73,
   "outputs": [],
   "source": [
    "def extract_dtw(signals, labels, alpha,  h, d, echo):\n",
    "    ICDTW_features = []\n",
    "    idxs = []\n",
    "\n",
    "    for cnt, signal in tqdm(enumerate(signals)):\n",
    "        hr = labels[cnt, 2]\n",
    "        large_peaks, _ = find_peaks(signal, height=np.max(signal)*0.3, distance=5000//(hr*alpha))\n",
    "        pieces = segmentation(signal, large_peaks)\n",
    "\n",
    "        template = STMF_Averaging_Scheme(pieces)\n",
    "        # plt.figure(figsize=(12, 3))\n",
    "        # for piece in pieces:\n",
    "        #     plt.plot(piece, alpha=0.3)\n",
    "        # plt.plot(template, color='red')\n",
    "        # plt.show()\n",
    "\n",
    "        features = get_features(template, h, d)\n",
    "\n",
    "        if features is not None:\n",
    "            idxs.append(cnt)\n",
    "            ICDTW_features.append(features)\n",
    "        if cnt > echo:\n",
    "                break\n",
    "    return np.array(ICDTW_features), np.array(idxs)\n"
   ],
   "metadata": {
    "collapsed": false,
    "pycharm": {
     "name": "#%%\n"
    }
   }
  },
  {
   "cell_type": "code",
   "execution_count": 74,
   "outputs": [
    {
     "name": "stdout",
     "output_type": "stream",
     "text": [
      "(4718, 1000) (2822, 6)\n",
      "(4718, 1000) (2822, 6)\n"
     ]
    },
    {
     "name": "stderr",
     "output_type": "stream",
     "text": [
      "4it [00:36,  9.04s/it]\n",
      "4it [00:44, 11.08s/it]\n"
     ]
    }
   ],
   "source": [
    "if __name__=='__main__':\n",
    "    labels_0_train, labels_0_test, signals_0_train, signals_0_test = std_data(0)\n",
    "    labels_1_train, labels_1_test, signals_1_train, signals_1_test = std_data(0.1)\n",
    "\n",
    "    echo1, echo2 = 3, 3\n",
    "    ICDTW_features_train, idxs_train= extract_dtw(signals_0_train,labels_0_train,1,0.1,0.15,echo1)\n",
    "    ICDTW_features_test, idxs_test= extract_dtw(signals_0_test, labels_0_test,1,0.12,0.12,echo2)\n",
    "\n",
    "    # extract_dtw(signals_0_train,labels_0_train,1,0.1,0.15,echo1)\n",
    "    # extract_dtw(signals_0_test, labels_0_test,1,0.12,0.12,echo2)"
   ],
   "metadata": {
    "collapsed": false,
    "pycharm": {
     "name": "#%%\n"
    }
   }
  },
  {
   "cell_type": "code",
   "execution_count": 77,
   "outputs": [
    {
     "data": {
      "text/plain": "<Figure size 432x288 with 1 Axes>",
      "image/png": "[encoded data removed]"
     },
     "metadata": {
      "needs_background": "light"
     },
     "output_type": "display_data"
    },
    {
     "name": "stdout",
     "output_type": "stream",
     "text": [
      "7.777784733840525\n"
     ]
    },
    {
     "data": {
      "text/plain": "<Figure size 432x288 with 1 Axes>",
      "image/png": "[encoded data removed]"
     },
     "metadata": {
      "needs_background": "light"
     },
     "output_type": "display_data"
    },
    {
     "data": {
      "text/plain": "<Figure size 432x288 with 1 Axes>",
      "image/png": "[encoded data removed]"
     },
     "metadata": {
      "needs_background": "light"
     },
     "output_type": "display_data"
    },
    {
     "name": "stdout",
     "output_type": "stream",
     "text": [
      "3.7566521922387324\n"
     ]
    },
    {
     "data": {
      "text/plain": "<Figure size 432x288 with 1 Axes>",
      "image/png": "[encoded data removed]"
     },
     "metadata": {
      "needs_background": "light"
     },
     "output_type": "display_data"
    }
   ],
   "source": [
    "from sklearn.linear_model import LinearRegression as LR\n",
    "\n",
    "def plot_plot(features_train, features_test, labels_train, labels_test, title):\n",
    "    plt.figure()\n",
    "    plt.scatter(np.array(features_train), labels_train)\n",
    "    plt.scatter(np.array(features_test), labels_test)\n",
    "    plt.show()\n",
    "\n",
    "    reg = LR().fit(np.array(features_train).reshape(-1, 1), labels_train)\n",
    "    yhat = reg.predict(np.array(features_test).reshape(-1, 1))\n",
    "    print(np.mean(np.abs(yhat - labels_test)))\n",
    "\n",
    "    plot_2vectors(labels_test, yhat, False, title)\n",
    "\n",
    "plot_plot(ICDTW_features_train[:, 0],ICDTW_features_test[:, 0],labels_0_train[idxs_train, 4],labels_0_test[idxs_train, 4],'S_ICDTW')\n",
    "plot_plot(ICDTW_features_train[:, 1],ICDTW_features_test[:, 1],labels_0_train[idxs_train, 5],labels_0_test[idxs_train, 5],'D_ICDTW')\n"
   ],
   "metadata": {
    "collapsed": false,
    "pycharm": {
     "name": "#%%\n"
    }
   }
  },
  {
   "cell_type": "code",
   "execution_count": 76,
   "outputs": [],
   "source": [
    "def calc_mae(gt, pred):\n",
    "    return np.mean(abs(np.array(gt) - np.array(pred)))\n",
    "\n",
    "def plot_2vectors(label, pred, save=False, name=None, path=None):\n",
    "    \"\"\"lsit1: label, list2: prediction\"\"\"\n",
    "\n",
    "    list1 = label\n",
    "    list2 = np.array(pred)\n",
    "    if list2.ndim == 2:\n",
    "        mae = calc_mae(list1, list2[:, 0])\n",
    "    else:\n",
    "        mae = calc_mae(list1, list2)\n",
    "\n",
    "    sorted_id = sorted(range(len(list1)), key=lambda k: list1[k])\n",
    "\n",
    "    plt.clf()\n",
    "    plt.text(0, np.min(list2), f'MAE={mae}')\n",
    "\n",
    "    plt.scatter(np.arange(list2.shape[0]), list2[sorted_id], s=1, alpha=0.5, label=f'{name} prediction', color='blue')\n",
    "    plt.scatter(np.arange(list1.shape[0]), list1[sorted_id], s=1, alpha=0.5, label=f'{name} label', color='red')\n",
    "    plt.legend(loc='lower right')\n",
    "\n",
    "    if save:\n",
    "        if path is None:\n",
    "            raise ValueError(\"If save is True, 'path' argument must be provided.\")\n",
    "        plt.savefig(f'{path}.jpg', dpi=300)\n",
    "        print(f'Saved plot to {path}.jpg')\n",
    "\n",
    "    plt.show()"
   ],
   "metadata": {
    "collapsed": false,
    "pycharm": {
     "name": "#%%\n"
    }
   }
  },
  {
   "cell_type": "code",
   "execution_count": null,
   "outputs": [],
   "source": [],
   "metadata": {
    "collapsed": false,
    "pycharm": {
     "name": "#%%\n"
    }
   }
  }
 ],
 "metadata": {
  "kernelspec": {
   "display_name": "Python 3",
   "language": "python",
   "name": "python3"
  },
  "language_info": {
   "codemirror_mode": {
    "name": "ipython",
    "version": 2
   },
   "file_extension": ".py",
   "mimetype": "text/x-python",
   "name": "python",
   "nbconvert_exporter": "python",
   "pygments_lexer": "ipython2",
   "version": "2.7.6"
  }
 },
 "nbformat": 4,
 "nbformat_minor": 0
}